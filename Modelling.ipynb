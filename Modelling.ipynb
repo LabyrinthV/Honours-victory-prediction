{
 "cells": [
  {
   "attachments": {},
   "cell_type": "markdown",
   "metadata": {},
   "source": [
    "# Valorant Victory Prediction"
   ]
  },
  {
   "attachments": {},
   "cell_type": "markdown",
   "metadata": {},
   "source": [
    "## Data Pre-processing"
   ]
  },
  {
   "cell_type": "code",
   "execution_count": 1,
   "metadata": {},
   "outputs": [],
   "source": [
    "# Import libraries\n",
    "import numpy as np\n",
    "import pandas as pd\n",
    "#For plotting\n",
    "import matplotlib.pyplot as plt\n",
    "import seaborn as sns\n",
    "# For clustering\n",
    "from sklearn.cluster import KMeans\n",
    "from sklearn.preprocessing import OneHotEncoder\n",
    "from sklearn.preprocessing import MultiLabelBinarizer"
   ]
  },
  {
   "attachments": {},
   "cell_type": "markdown",
   "metadata": {},
   "source": [
    "## Pre-process match stats"
   ]
  },
  {
   "attachments": {},
   "cell_type": "markdown",
   "metadata": {},
   "source": [
    "### Dataset overview\n",
    "\n",
    "The match dataset contains the map name, team ids and names, score, wins and losses during attack and defense, players, and team-composition"
   ]
  },
  {
   "cell_type": "code",
   "execution_count": 2,
   "metadata": {},
   "outputs": [],
   "source": [
    "s_results = pd.read_csv('./Data files/val-series.csv')\n",
    "m_results = pd.read_csv('./Data files/val-matches.csv')"
   ]
  },
  {
   "cell_type": "code",
   "execution_count": 3,
   "metadata": {},
   "outputs": [
    {
     "data": {
      "text/html": [
       "<div>\n",
       "<style scoped>\n",
       "    .dataframe tbody tr th:only-of-type {\n",
       "        vertical-align: middle;\n",
       "    }\n",
       "\n",
       "    .dataframe tbody tr th {\n",
       "        vertical-align: top;\n",
       "    }\n",
       "\n",
       "    .dataframe thead th {\n",
       "        text-align: right;\n",
       "    }\n",
       "</style>\n",
       "<table border=\"1\" class=\"dataframe\">\n",
       "  <thead>\n",
       "    <tr style=\"text-align: right;\">\n",
       "      <th></th>\n",
       "      <th>Map Name</th>\n",
       "      <th>Team 1 Name</th>\n",
       "      <th>Team 2 Name</th>\n",
       "      <th>Attacking First Team Number</th>\n",
       "      <th>Team 1 Agents</th>\n",
       "      <th>Team 2 Agents</th>\n",
       "      <th>Winner</th>\n",
       "    </tr>\n",
       "  </thead>\n",
       "  <tbody>\n",
       "    <tr>\n",
       "      <th>1543</th>\n",
       "      <td>Breeze</td>\n",
       "      <td>Team Liquid</td>\n",
       "      <td>Gambit Esports</td>\n",
       "      <td>2</td>\n",
       "      <td>Sova,Viper,Skye,KAY/O,Chamber</td>\n",
       "      <td>Sova,Viper,Jett,Skye,Chamber</td>\n",
       "      <td>0</td>\n",
       "    </tr>\n",
       "    <tr>\n",
       "      <th>1544</th>\n",
       "      <td>Icebox</td>\n",
       "      <td>Team Liquid</td>\n",
       "      <td>Gambit Esports</td>\n",
       "      <td>2</td>\n",
       "      <td>Sova,Viper,Sage,Reyna,Chamber</td>\n",
       "      <td>Sova,Viper,Sage,Jett,KAY/O</td>\n",
       "      <td>0</td>\n",
       "    </tr>\n",
       "    <tr>\n",
       "      <th>1540</th>\n",
       "      <td>Split</td>\n",
       "      <td>G2 Esports (Inactive)</td>\n",
       "      <td>FNATIC</td>\n",
       "      <td>1</td>\n",
       "      <td>Raze,Cypher,Sage,Omen,Jett</td>\n",
       "      <td>Raze,Viper,Sage,Astra,KAY/O</td>\n",
       "      <td>0</td>\n",
       "    </tr>\n",
       "    <tr>\n",
       "      <th>1542</th>\n",
       "      <td>Icebox</td>\n",
       "      <td>G2 Esports (Inactive)</td>\n",
       "      <td>FNATIC</td>\n",
       "      <td>2</td>\n",
       "      <td>Sova,Killjoy,Viper,Sage,Jett</td>\n",
       "      <td>Sova,Killjoy,Viper,Sage,Jett</td>\n",
       "      <td>0</td>\n",
       "    </tr>\n",
       "    <tr>\n",
       "      <th>1541</th>\n",
       "      <td>Ascent</td>\n",
       "      <td>G2 Esports (Inactive)</td>\n",
       "      <td>FNATIC</td>\n",
       "      <td>1</td>\n",
       "      <td>Sova,Killjoy,Jett,Astra,KAY/O</td>\n",
       "      <td>Sova,Killjoy,Jett,Astra,KAY/O</td>\n",
       "      <td>1</td>\n",
       "    </tr>\n",
       "    <tr>\n",
       "      <th>1533</th>\n",
       "      <td>Split</td>\n",
       "      <td>FunPlus Phoenix</td>\n",
       "      <td>BIG</td>\n",
       "      <td>1</td>\n",
       "      <td>Raze,Cypher,Sova,Viper,Astra</td>\n",
       "      <td>Cypher,Sage,Jett,Skye,Astra</td>\n",
       "      <td>1</td>\n",
       "    </tr>\n",
       "    <tr>\n",
       "      <th>1535</th>\n",
       "      <td>Bind</td>\n",
       "      <td>FunPlus Phoenix</td>\n",
       "      <td>BIG</td>\n",
       "      <td>2</td>\n",
       "      <td>Raze,Sova,Viper,Skye,Astra</td>\n",
       "      <td>Raze,Sova,Viper,Skye,Astra</td>\n",
       "      <td>0</td>\n",
       "    </tr>\n",
       "    <tr>\n",
       "      <th>1534</th>\n",
       "      <td>Haven</td>\n",
       "      <td>FunPlus Phoenix</td>\n",
       "      <td>BIG</td>\n",
       "      <td>1</td>\n",
       "      <td>Sova,Killjoy,Jett,Astra,KAY/O</td>\n",
       "      <td>Sova,Killjoy,Jett,Astra,KAY/O</td>\n",
       "      <td>1</td>\n",
       "    </tr>\n",
       "    <tr>\n",
       "      <th>1532</th>\n",
       "      <td>Ascent</td>\n",
       "      <td>SuperMassive</td>\n",
       "      <td>Acend</td>\n",
       "      <td>1</td>\n",
       "      <td>Sova,Killjoy,Sage,Jett,Astra</td>\n",
       "      <td>Sova,Killjoy,Jett,Astra,KAY/O</td>\n",
       "      <td>0</td>\n",
       "    </tr>\n",
       "    <tr>\n",
       "      <th>1530</th>\n",
       "      <td>Bind</td>\n",
       "      <td>SuperMassive</td>\n",
       "      <td>Acend</td>\n",
       "      <td>2</td>\n",
       "      <td>Raze,Sova,Viper,Skye,Astra</td>\n",
       "      <td>Raze,Viper,Brimstone,Sage,Skye</td>\n",
       "      <td>0</td>\n",
       "    </tr>\n",
       "  </tbody>\n",
       "</table>\n",
       "</div>"
      ],
      "text/plain": [
       "     Map Name            Team 1 Name     Team 2 Name  \\\n",
       "1543   Breeze            Team Liquid  Gambit Esports   \n",
       "1544   Icebox            Team Liquid  Gambit Esports   \n",
       "1540    Split  G2 Esports (Inactive)          FNATIC   \n",
       "1542   Icebox  G2 Esports (Inactive)          FNATIC   \n",
       "1541   Ascent  G2 Esports (Inactive)          FNATIC   \n",
       "1533    Split        FunPlus Phoenix             BIG   \n",
       "1535     Bind        FunPlus Phoenix             BIG   \n",
       "1534    Haven        FunPlus Phoenix             BIG   \n",
       "1532   Ascent           SuperMassive           Acend   \n",
       "1530     Bind           SuperMassive           Acend   \n",
       "\n",
       "      Attacking First Team Number                  Team 1 Agents  \\\n",
       "1543                            2  Sova,Viper,Skye,KAY/O,Chamber   \n",
       "1544                            2  Sova,Viper,Sage,Reyna,Chamber   \n",
       "1540                            1     Raze,Cypher,Sage,Omen,Jett   \n",
       "1542                            2   Sova,Killjoy,Viper,Sage,Jett   \n",
       "1541                            1  Sova,Killjoy,Jett,Astra,KAY/O   \n",
       "1533                            1   Raze,Cypher,Sova,Viper,Astra   \n",
       "1535                            2     Raze,Sova,Viper,Skye,Astra   \n",
       "1534                            1  Sova,Killjoy,Jett,Astra,KAY/O   \n",
       "1532                            1   Sova,Killjoy,Sage,Jett,Astra   \n",
       "1530                            2     Raze,Sova,Viper,Skye,Astra   \n",
       "\n",
       "                       Team 2 Agents  Winner  \n",
       "1543    Sova,Viper,Jett,Skye,Chamber       0  \n",
       "1544      Sova,Viper,Sage,Jett,KAY/O       0  \n",
       "1540     Raze,Viper,Sage,Astra,KAY/O       0  \n",
       "1542    Sova,Killjoy,Viper,Sage,Jett       0  \n",
       "1541   Sova,Killjoy,Jett,Astra,KAY/O       1  \n",
       "1533     Cypher,Sage,Jett,Skye,Astra       1  \n",
       "1535      Raze,Sova,Viper,Skye,Astra       0  \n",
       "1534   Sova,Killjoy,Jett,Astra,KAY/O       1  \n",
       "1532   Sova,Killjoy,Jett,Astra,KAY/O       0  \n",
       "1530  Raze,Viper,Brimstone,Sage,Skye       0  "
      ]
     },
     "execution_count": 3,
     "metadata": {},
     "output_type": "execute_result"
    }
   ],
   "source": [
    "m_results['Winner'] = np.where(m_results['Team 1 Score'] > m_results['Team 2 Score'], 1, 0)\n",
    "# Sort rows by match id\n",
    "m_results = m_results.sort_values(by=['Series Id'], ascending=True)\n",
    "m_results = m_results.drop([\n",
    "    'Match Id',\n",
    "    'Series Id',\n",
    "    'Event Name',\n",
    "    'Win Condition',\n",
    "    'Date',\n",
    "    'Total Count',\n",
    "    'Team 1 Id',\n",
    "    'Team 2 Id',\n",
    "    'Team 1 Player Ids',\n",
    "    'Team 2 Player Ids',\n",
    "    'Team 1 Score',\n",
    "    'Team 2 Score',\n",
    "    'Team 1 Score At Half',\n",
    "    'Team 2 Score At Half', \n",
    "    \"Team 1 Pistol Wins\",\n",
    "    \"Team 1 Attacking Pistol Wins\",\n",
    "    \"Team 1 Defending Pistol Wins\",\n",
    "    \"Team 1 Attacking Wins\",\n",
    "    \"Team 1 Attacking Losses\",\n",
    "    \"Team 1 Defending Wins\",\n",
    "    \"Team 1 Defending Losses\",\n",
    "    \"Team 2 Pistol Wins\",\n",
    "    \"Team 2 Attacking Pistol Wins\",\n",
    "    \"Team 2 Defending Pistol Wins\",\n",
    "    \"Team 2 Attacking Wins\",\n",
    "    \"Team 2 Attacking Losses\",\n",
    "    \"Team 2 Defending Wins\",\n",
    "    \"Team 2 Defending Losses\"\n",
    "    ], axis=1)\n",
    "\n",
    "#export df to csv\n",
    "m_results.to_csv('./Data files/val-matches-cleaned.csv', index=False)\n",
    "\n",
    "m_results.head(10)"
   ]
  },
  {
   "cell_type": "code",
   "execution_count": 4,
   "metadata": {},
   "outputs": [],
   "source": [
    "  \n",
    "\n",
    "\n",
    "def agents_to_list(results, team_number):\n",
    "    list_of_agent_lists = []\n",
    "    for index, row in results.iterrows():\n",
    "        agents = row['Team ' + team_number + ' Agents'].split(',')\n",
    "        for x in range(len(agents)):\n",
    "            agents[x] = agents[x] + '_' + team_number\n",
    "        list_of_agent_lists.append(agents)\n",
    "    return list_of_agent_lists\n",
    "\n"
   ]
  },
  {
   "cell_type": "code",
   "execution_count": 5,
   "metadata": {},
   "outputs": [],
   "source": [
    "cat_encoder = OneHotEncoder()# instantiate a class\n",
    "# code the feature called default which takes yes, no value\n",
    "results_encoded = pd.get_dummies(m_results, columns=[\n",
    "    'Map Name',\n",
    "    'Team 1 Name',\n",
    "    'Team 2 Name',\n",
    "])"
   ]
  },
  {
   "cell_type": "code",
   "execution_count": 6,
   "metadata": {},
   "outputs": [
    {
     "name": "stdout",
     "output_type": "stream",
     "text": [
      "['Attacking First Team Number', 'Team 1 Agents', 'Team 2 Agents', 'Winner', 'Map Name_Ascent', 'Map Name_Bind', 'Map Name_Breeze', 'Map Name_Fracture', 'Map Name_Haven', 'Map Name_Icebox', 'Map Name_Pearl', 'Map Name_Split', 'Team 1 Name_100 Thieves', 'Team 1 Name_9z Team', 'Team 1 Name_AWS', 'Team 1 Name_Acend', 'Team 1 Name_Alter Ego', 'Team 1 Name_BBL Esports', 'Team 1 Name_BIG', 'Team 1 Name_BLUE BEES.ESP', 'Team 1 Name_BOOM Esports', 'Team 1 Name_Bleed Esports', 'Team 1 Name_CERBERUS Esports', 'Team 1 Name_CNJ Esports', 'Team 1 Name_Cloud9', 'Team 1 Name_Crazy Raccoon', 'Team 1 Name_Crest Gaming ZST', 'Team 1 Name_DAMWON Gaming', 'Team 1 Name_DRX', 'Team 1 Name_DeToNator', 'Team 1 Name_Desperado', 'Team 1 Name_DetonatioN Gaming White', 'Team 1 Name_E-Xolos LAZER', 'Team 1 Name_EBRO Gaming', 'Team 1 Name_EDward Gaming', 'Team 1 Name_EVA:e', 'Team 1 Name_Evil Geniuses', 'Team 1 Name_FAV gaming', 'Team 1 Name_FENNEL', 'Team 1 Name_FNATIC', 'Team 1 Name_FOKUS', 'Team 1 Name_FULL SENSE', 'Team 1 Name_FURIA', 'Team 1 Name_FUSION', 'Team 1 Name_FW Esports', 'Team 1 Name_FaZe Clan', 'Team 1 Name_Fancy United Esports', 'Team 1 Name_FunPlus Phoenix', 'Team 1 Name_G2 Esports (Inactive)', 'Team 1 Name_Gaimin Gladiators', 'Team 1 Name_Gamelanders Blue', 'Team 1 Name_Ghost Gaming', 'Team 1 Name_GoNGo Prince', 'Team 1 Name_Griffin E-Sports', 'Team 1 Name_Guild Esports', 'Team 1 Name_GyoGun', 'Team 1 Name_Hexad', 'Team 1 Name_HolyMolly', 'Team 1 Name_IGZIST', 'Team 1 Name_INGAMING Esports', 'Team 1 Name_IXA', 'Team 1 Name_Jadeite', 'Team 1 Name_K2 eSports', 'Team 1 Name_KRÜ Esports', 'Team 1 Name_Keyd Stars', 'Team 1 Name_Knights', 'Team 1 Name_LDN UTD', 'Team 1 Name_LOUD', 'Team 1 Name_Leviatán', 'Team 1 Name_Liberty', 'Team 1 Name_Los Grandes', 'Team 1 Name_Luminosity Gaming', 'Team 1 Name_M3 Champions', 'Team 1 Name_MIBR', 'Team 1 Name_Made in Thailand', 'Team 1 Name_Maru Gaming', 'Team 1 Name_Meta Gaming', 'Team 1 Name_Movistar Optix', 'Team 1 Name_NAOS Esports', 'Team 1 Name_NORTHEPTION', 'Team 1 Name_NRG Esports', 'Team 1 Name_Natus Vincere', 'Team 1 Name_Ninjas in Pyjamas', 'Team 1 Name_No Namers', 'Team 1 Name_OG LDN UTD', 'Team 1 Name_ORDER', 'Team 1 Name_Oasis Gaming', 'Team 1 Name_On Sla2ers', 'Team 1 Name_Onic Esports', 'Team 1 Name_OpTic Gaming', 'Team 1 Name_PAMPAS', 'Team 1 Name_Paper Rex', 'Team 1 Name_Persija Esports', 'Team 1 Name_REJECT', 'Team 1 Name_Rebellion Arts', 'Team 1 Name_Reignite', 'Team 1 Name_Rex Regum Qeon', 'Team 1 Name_Rise', 'Team 1 Name_SCARZ', 'Team 1 Name_SETOUCHI ENLIFE', 'Team 1 Name_Sengoku Gaming', 'Team 1 Name_Sentinels', 'Team 1 Name_Sharks Esports', 'Team 1 Name_Shopify Rebellion', 'Team 1 Name_South Built Esports', 'Team 1 Name_Spear Gaming', 'Team 1 Name_Stars Horizon', 'Team 1 Name_SunXet Club', 'Team 1 Name_SuperMassive', 'Team 1 Name_TBK Esports', 'Team 1 Name_TRIDENT', 'Team 1 Name_TSM', 'Team 1 Name_Tartarus', 'Team 1 Name_Team GP', 'Team 1 Name_Team Liquid', 'Team 1 Name_Team Secret', 'Team 1 Name_Team T5', 'Team 1 Name_Team Vikings', 'Team 1 Name_The Guard', 'Team 1 Name_Velocity Gaming', 'Team 1 Name_Version1 (Inactive)', 'Team 1 Name_World Game Star', 'Team 1 Name_XERXIA Esports', 'Team 1 Name_XSET', 'Team 1 Name_ZETA DIVISION', 'Team 1 Name_ややーず', 'Team 2 Name_100 Thieves', 'Team 2 Name_9z Team', 'Team 2 Name_Acend', 'Team 2 Name_Alter Ego', 'Team 2 Name_BBL Esports', 'Team 2 Name_BIG', 'Team 2 Name_BLUE BEES.ESP', 'Team 2 Name_BOOM Esports', 'Team 2 Name_Bleed Esports', 'Team 2 Name_Bonkers(OCE)', 'Team 2 Name_Brimstone', 'Team 2 Name_CERBERUS Esports', 'Team 2 Name_CNJ Esports', 'Team 2 Name_Cloud9', 'Team 2 Name_Crazy Raccoon', 'Team 2 Name_Crest Gaming ZST', 'Team 2 Name_DAMWON Gaming', 'Team 2 Name_DRX', 'Team 2 Name_Desperado', 'Team 2 Name_E-Xolos LAZER', 'Team 2 Name_EBRO Gaming', 'Team 2 Name_EDward Gaming', 'Team 2 Name_Evil Geniuses', 'Team 2 Name_FAV gaming', 'Team 2 Name_FENNEL', 'Team 2 Name_FNATIC', 'Team 2 Name_FOKUS', 'Team 2 Name_FURIA', 'Team 2 Name_FUSION', 'Team 2 Name_FW Esports', 'Team 2 Name_FaZe Clan', 'Team 2 Name_Fancy United Esports', 'Team 2 Name_Focus e-Sports', 'Team 2 Name_FunPlus Phoenix', 'Team 2 Name_G2 Esports (Inactive)', 'Team 2 Name_Gaimin Gladiators', 'Team 2 Name_Gambit Esports', 'Team 2 Name_Gamelanders Blue', 'Team 2 Name_Ghost Gaming', 'Team 2 Name_Global Esports', 'Team 2 Name_Griffin E-Sports', 'Team 2 Name_Guild Esports', 'Team 2 Name_HolyMolly', 'Team 2 Name_IGZIST', 'Team 2 Name_INGAMING Esports', 'Team 2 Name_IXA', 'Team 2 Name_Insomnia', 'Team 2 Name_Jadeite', 'Team 2 Name_KRÜ Esports', 'Team 2 Name_Keyd Stars', 'Team 2 Name_Knights', 'Team 2 Name_LDN UTD', 'Team 2 Name_LOUD', 'Team 2 Name_Leviatán', 'Team 2 Name_Liberty', 'Team 2 Name_Los Grandes', 'Team 2 Name_Luminosity Gaming', 'Team 2 Name_M3 Champions', 'Team 2 Name_MIBR', 'Team 2 Name_Made in Thailand', 'Team 2 Name_Mariner', 'Team 2 Name_Maru Gaming', 'Team 2 Name_Meta Gaming', 'Team 2 Name_Movistar Optix', 'Team 2 Name_NAOS Esports', 'Team 2 Name_NORTHEPTION', 'Team 2 Name_NRG Esports', 'Team 2 Name_Natus Vincere', 'Team 2 Name_Next eSports', 'Team 2 Name_Ninjas in Pyjamas', 'Team 2 Name_No Namers', 'Team 2 Name_OG LDN UTD', 'Team 2 Name_ORDER', 'Team 2 Name_Oasis Gaming', 'Team 2 Name_Oblivion Force', 'Team 2 Name_On Sla2ers', 'Team 2 Name_Onic Esports', 'Team 2 Name_OpTic Gaming', 'Team 2 Name_PAMPAS', 'Team 2 Name_Paper Rex', 'Team 2 Name_Pentagon', 'Team 2 Name_Persija Esports', 'Team 2 Name_REJECT', 'Team 2 Name_Reignite', 'Team 2 Name_Rex Regum Qeon', 'Team 2 Name_Rise', 'Team 2 Name_SCARZ', 'Team 2 Name_SYSTEM e-Sports', 'Team 2 Name_SchwarzerLand', 'Team 2 Name_Sengoku Gaming', 'Team 2 Name_Sentinels', 'Team 2 Name_Sharks Esports', 'Team 2 Name_Shopify Rebellion', 'Team 2 Name_South Built Esports', 'Team 2 Name_Spear Gaming', 'Team 2 Name_Stars Horizon', 'Team 2 Name_Storks Phalanx', 'Team 2 Name_SuperMassive', 'Team 2 Name_TBK Esports', 'Team 2 Name_TSM', 'Team 2 Name_Tartarus', 'Team 2 Name_Team GP', 'Team 2 Name_Team Liquid', 'Team 2 Name_Team Secret', 'Team 2 Name_Team T5', 'Team 2 Name_Team Vikings', 'Team 2 Name_The Guard', 'Team 2 Name_VPZ', 'Team 2 Name_Velocity Gaming', 'Team 2 Name_Veronica7', 'Team 2 Name_Version1 (Inactive)', 'Team 2 Name_World Game Star', 'Team 2 Name_XERXIA Esports', 'Team 2 Name_XSET', 'Team 2 Name_ZETA DIVISION', 'Team 2 Name_looking for a name']\n"
     ]
    }
   ],
   "source": [
    "\n",
    "#m_results['Team 1 Player Ids'] = player_id_list(m_results, '1')\n",
    "#m_results['Team 2 Player Ids'] = player_id_list(m_results, '2')\n",
    "results_encoded['Team 1 Agents'] = agents_to_list(m_results,'1')\n",
    "results_encoded['Team 2 Agents'] = agents_to_list(m_results,'2')\n",
    "print(results_encoded.columns.tolist())"
   ]
  },
  {
   "cell_type": "code",
   "execution_count": 7,
   "metadata": {},
   "outputs": [],
   "source": [
    "mlb = MultiLabelBinarizer()\n",
    "results_encoded = results_encoded.join(pd.DataFrame(mlb.fit_transform(results_encoded.pop('Team 1 Agents')),\n",
    "                          columns=mlb.classes_,\n",
    "                          index=m_results.index))\n",
    "results_encoded = results_encoded.join(pd.DataFrame(mlb.fit_transform(results_encoded.pop('Team 2 Agents')),\n",
    "                          columns=mlb.classes_,\n",
    "                          index=m_results.index))"
   ]
  },
  {
   "cell_type": "code",
   "execution_count": 8,
   "metadata": {},
   "outputs": [
    {
     "name": "stdout",
     "output_type": "stream",
     "text": [
      "There is 847 examples with team 1 winning, which is 53.0%\n",
      "There is 741 examples with team 2 winning, which is 47.0%\n"
     ]
    }
   ],
   "source": [
    "# Number of records having team 1 as the victor\n",
    "team1 = results_encoded[results_encoded.Winner==1].shape[0]\n",
    "# Number of records having team 2 as the victor\n",
    "team2 = results_encoded[results_encoded.Winner==0].shape[0]\n",
    "\n",
    "print(f'There is {team1} examples with team 1 winning, which is {round(team1/results_encoded.shape[0],2)*100}%')\n",
    "print(f'There is {team2} examples with team 2 winning, which is {round(team2/results_encoded.shape[0],2)*100}%')"
   ]
  },
  {
   "attachments": {},
   "cell_type": "markdown",
   "metadata": {},
   "source": [
    "## Prepare features for testing: previous match data ONLY"
   ]
  },
  {
   "cell_type": "code",
   "execution_count": 9,
   "metadata": {},
   "outputs": [
    {
     "data": {
      "text/html": [
       "<div>\n",
       "<style scoped>\n",
       "    .dataframe tbody tr th:only-of-type {\n",
       "        vertical-align: middle;\n",
       "    }\n",
       "\n",
       "    .dataframe tbody tr th {\n",
       "        vertical-align: top;\n",
       "    }\n",
       "\n",
       "    .dataframe thead th {\n",
       "        text-align: right;\n",
       "    }\n",
       "</style>\n",
       "<table border=\"1\" class=\"dataframe\">\n",
       "  <thead>\n",
       "    <tr style=\"text-align: right;\">\n",
       "      <th></th>\n",
       "      <th>Attacking First Team Number</th>\n",
       "      <th>Map Name_Ascent</th>\n",
       "      <th>Map Name_Bind</th>\n",
       "      <th>Map Name_Breeze</th>\n",
       "      <th>Map Name_Fracture</th>\n",
       "      <th>Map Name_Haven</th>\n",
       "      <th>Map Name_Icebox</th>\n",
       "      <th>Map Name_Pearl</th>\n",
       "      <th>Map Name_Split</th>\n",
       "      <th>Team 1 Name_100 Thieves</th>\n",
       "      <th>...</th>\n",
       "      <th>Neon_2</th>\n",
       "      <th>Omen_2</th>\n",
       "      <th>Phoenix_2</th>\n",
       "      <th>Raze_2</th>\n",
       "      <th>Reyna_2</th>\n",
       "      <th>Sage_2</th>\n",
       "      <th>Skye_2</th>\n",
       "      <th>Sova_2</th>\n",
       "      <th>Viper_2</th>\n",
       "      <th>Yoru_2</th>\n",
       "    </tr>\n",
       "  </thead>\n",
       "  <tbody>\n",
       "    <tr>\n",
       "      <th>1543</th>\n",
       "      <td>2</td>\n",
       "      <td>0</td>\n",
       "      <td>0</td>\n",
       "      <td>1</td>\n",
       "      <td>0</td>\n",
       "      <td>0</td>\n",
       "      <td>0</td>\n",
       "      <td>0</td>\n",
       "      <td>0</td>\n",
       "      <td>0</td>\n",
       "      <td>...</td>\n",
       "      <td>0</td>\n",
       "      <td>0</td>\n",
       "      <td>0</td>\n",
       "      <td>0</td>\n",
       "      <td>0</td>\n",
       "      <td>0</td>\n",
       "      <td>1</td>\n",
       "      <td>1</td>\n",
       "      <td>1</td>\n",
       "      <td>0</td>\n",
       "    </tr>\n",
       "    <tr>\n",
       "      <th>1544</th>\n",
       "      <td>2</td>\n",
       "      <td>0</td>\n",
       "      <td>0</td>\n",
       "      <td>0</td>\n",
       "      <td>0</td>\n",
       "      <td>0</td>\n",
       "      <td>1</td>\n",
       "      <td>0</td>\n",
       "      <td>0</td>\n",
       "      <td>0</td>\n",
       "      <td>...</td>\n",
       "      <td>0</td>\n",
       "      <td>0</td>\n",
       "      <td>0</td>\n",
       "      <td>0</td>\n",
       "      <td>0</td>\n",
       "      <td>1</td>\n",
       "      <td>0</td>\n",
       "      <td>1</td>\n",
       "      <td>1</td>\n",
       "      <td>0</td>\n",
       "    </tr>\n",
       "    <tr>\n",
       "      <th>1540</th>\n",
       "      <td>1</td>\n",
       "      <td>0</td>\n",
       "      <td>0</td>\n",
       "      <td>0</td>\n",
       "      <td>0</td>\n",
       "      <td>0</td>\n",
       "      <td>0</td>\n",
       "      <td>0</td>\n",
       "      <td>1</td>\n",
       "      <td>0</td>\n",
       "      <td>...</td>\n",
       "      <td>0</td>\n",
       "      <td>0</td>\n",
       "      <td>0</td>\n",
       "      <td>1</td>\n",
       "      <td>0</td>\n",
       "      <td>1</td>\n",
       "      <td>0</td>\n",
       "      <td>0</td>\n",
       "      <td>1</td>\n",
       "      <td>0</td>\n",
       "    </tr>\n",
       "  </tbody>\n",
       "</table>\n",
       "<p>3 rows × 277 columns</p>\n",
       "</div>"
      ],
      "text/plain": [
       "      Attacking First Team Number  Map Name_Ascent  Map Name_Bind  \\\n",
       "1543                            2                0              0   \n",
       "1544                            2                0              0   \n",
       "1540                            1                0              0   \n",
       "\n",
       "      Map Name_Breeze  Map Name_Fracture  Map Name_Haven  Map Name_Icebox  \\\n",
       "1543                1                  0               0                0   \n",
       "1544                0                  0               0                1   \n",
       "1540                0                  0               0                0   \n",
       "\n",
       "      Map Name_Pearl  Map Name_Split  Team 1 Name_100 Thieves  ...  Neon_2  \\\n",
       "1543               0               0                        0  ...       0   \n",
       "1544               0               0                        0  ...       0   \n",
       "1540               0               1                        0  ...       0   \n",
       "\n",
       "      Omen_2  Phoenix_2  Raze_2  Reyna_2  Sage_2  Skye_2  Sova_2  Viper_2  \\\n",
       "1543       0          0       0        0       0       1       1        1   \n",
       "1544       0          0       0        0       1       0       1        1   \n",
       "1540       0          0       1        0       1       0       0        1   \n",
       "\n",
       "      Yoru_2  \n",
       "1543       0  \n",
       "1544       0  \n",
       "1540       0  \n",
       "\n",
       "[3 rows x 277 columns]"
      ]
     },
     "execution_count": 9,
     "metadata": {},
     "output_type": "execute_result"
    }
   ],
   "source": [
    "Y = results_encoded['Winner']\n",
    "X = results_encoded.drop(\"Winner\", axis=1)\n",
    "X.head(3)"
   ]
  },
  {
   "cell_type": "code",
   "execution_count": 10,
   "metadata": {},
   "outputs": [
    {
     "name": "stdout",
     "output_type": "stream",
     "text": [
      "[[0.48507125 0.         0.         ... 0.24253563 0.24253563 0.        ]\n",
      " [0.48507125 0.         0.         ... 0.24253563 0.24253563 0.        ]\n",
      " [0.26726124 0.         0.         ... 0.         0.26726124 0.        ]\n",
      " ...\n",
      " [0.48507125 0.         0.         ... 0.         0.         0.        ]\n",
      " [0.48507125 0.24253563 0.         ... 0.24253563 0.         0.        ]\n",
      " [0.48507125 0.         0.         ... 0.         0.         0.        ]]\n"
     ]
    }
   ],
   "source": [
    "#Import necessary library\n",
    "from sklearn import preprocessing\n",
    "#Normalize the data\n",
    "normalized_X= preprocessing.normalize(X)\n",
    "#Check normalization\n",
    "print(normalized_X)"
   ]
  },
  {
   "cell_type": "code",
   "execution_count": 11,
   "metadata": {},
   "outputs": [],
   "source": [
    "from sklearn.model_selection import train_test_split\n",
    "#Split testing into 20%\n",
    "#Set shuffle to false to make sure past data is not used for testing\n",
    "X_train, X_test, y_train, y_test = train_test_split(X, Y, test_size=0.2, random_state=1904703, shuffle=False)"
   ]
  },
  {
   "cell_type": "code",
   "execution_count": 12,
   "metadata": {},
   "outputs": [
    {
     "data": {
      "text/plain": [
       "SVC(random_state=1904703)"
      ]
     },
     "execution_count": 12,
     "metadata": {},
     "output_type": "execute_result"
    }
   ],
   "source": [
    "from sklearn.ensemble import RandomForestClassifier, GradientBoostingClassifier\n",
    "from sklearn.tree import DecisionTreeClassifier, ExtraTreeClassifier\n",
    "from sklearn.linear_model import LogisticRegression\n",
    "from sklearn.svm import SVC\n",
    "from sklearn.metrics import accuracy_score\n",
    "from sklearn.metrics import classification_report, confusion_matrix\n",
    "\n",
    "#Create an instance of RandomForestClassifier\n",
    "rf=RandomForestClassifier(random_state=1904703, n_estimators=100)\n",
    "gb= GradientBoostingClassifier(random_state=1904703, n_estimators=100)\n",
    "dt= DecisionTreeClassifier(random_state=1904703)\n",
    "et= ExtraTreeClassifier(random_state=1904703)\n",
    "lr= LogisticRegression(random_state=1904703)\n",
    "svc= SVC(random_state=1904703)\n",
    "\n",
    "#Fit model with training data\n",
    "rf.fit(X_train, y_train)\n",
    "gb.fit(X_train, y_train)\n",
    "dt.fit(X_train, y_train)\n",
    "et.fit(X_train, y_train)\n",
    "lr.fit(X_train, y_train)\n",
    "svc.fit(X_train, y_train)"
   ]
  },
  {
   "cell_type": "code",
   "execution_count": 13,
   "metadata": {},
   "outputs": [
    {
     "name": "stdout",
     "output_type": "stream",
     "text": [
      "The overall accuracy of RF is 54.4%\n",
      "The overall accuracy of GB is 54.72%\n",
      "The overall accuracy of DT is 53.14%\n",
      "The overall accuracy of ET is 52.83%\n",
      "The overall accuracy of LR is 55.97%\n",
      "The overall accuracy of SVC is 56.6%\n"
     ]
    }
   ],
   "source": [
    "# Prediction\n",
    "rf_predictions = rf.predict(X_test)\n",
    "gb_predictions = gb.predict(X_test)\n",
    "dt_predictions = dt.predict(X_test)\n",
    "et_predictions = et.predict(X_test)\n",
    "lr_predictions = lr.predict(X_test)\n",
    "svc_predictions = svc.predict(X_test)\n",
    "#Results\n",
    "accuracy_rf = accuracy_score(y_test, rf_predictions)\n",
    "accuracy_gb = accuracy_score(y_test, gb_predictions)\n",
    "accuracy_dt = accuracy_score(y_test, dt_predictions)\n",
    "accuracy_et = accuracy_score(y_test, et_predictions)\n",
    "accuracy_lr = accuracy_score(y_test, lr_predictions)\n",
    "accuracy_svc = accuracy_score(y_test, svc_predictions)\n",
    "print(f'The overall accuracy of RF is {np.round(accuracy_rf*100,2)}%')\n",
    "print(f'The overall accuracy of GB is {np.round(accuracy_gb*100,2)}%')\n",
    "print(f'The overall accuracy of DT is {np.round(accuracy_dt*100,2)}%')\n",
    "print(f'The overall accuracy of ET is {np.round(accuracy_et*100,2)}%')\n",
    "print(f'The overall accuracy of LR is {np.round(accuracy_lr*100,2)}%')\n",
    "print(f'The overall accuracy of SVC is {np.round(accuracy_svc*100,2)}%')"
   ]
  },
  {
   "cell_type": "code",
   "execution_count": 17,
   "metadata": {},
   "outputs": [
    {
     "data": {
      "image/png": "[encoded data removed]",
      "text/plain": [
       "<Figure size 576x432 with 1 Axes>"
      ]
     },
     "metadata": {
      "needs_background": "light"
     },
     "output_type": "display_data"
    }
   ],
   "source": [
    "fig = plt.figure(figsize=(8,6))\n",
    "ax = fig.add_axes([0,0,1,1])\n",
    "models = ['Random Forest', 'Gradient Boosting', 'Decision Tree', 'Extra Tree', 'Logistic Regression', 'SVC']\n",
    "accuracies = [np.round(accuracy_rf*100,2), np.round(accuracy_gb*100,2), np.round(accuracy_dt*100,2), np.round(accuracy_et*100,2), np.round(accuracy_lr*100,2), np.round(accuracy_svc*100,2)]\n",
    "ax.bar(models,accuracies)\n",
    "# Set y-axis to be 0-100\n",
    "ax.set_ylim(0,100)\n",
    "ax.set_ylabel('Accuracy (%)')\n",
    "ax.set_title('Model Accuracy')\n",
    "ax.set_xlabel('Models')\n",
    "plt.show()"
   ]
  }
 ],
 "metadata": {
  "kernelspec": {
   "display_name": "Python 3",
   "language": "python",
   "name": "python3"
  },
  "language_info": {
   "codemirror_mode": {
    "name": "ipython",
    "version": 3
   },
   "file_extension": ".py",
   "mimetype": "text/x-python",
   "name": "python",
   "nbconvert_exporter": "python",
   "pygments_lexer": "ipython3",
   "version": "3.9.13"
  },
  "orig_nbformat": 4,
  "vscode": {
   "interpreter": {
    "hash": "bd95098ca061f60bf7a81ae738bc937b59a55a9e938c72070140395791771eca"
   }
  }
 },
 "nbformat": 4,
 "nbformat_minor": 2
}

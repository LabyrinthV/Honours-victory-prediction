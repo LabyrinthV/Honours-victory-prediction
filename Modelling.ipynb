{
 "cells": [
  {
   "attachments": {},
   "cell_type": "markdown",
   "metadata": {},
   "source": [
    "# Valorant Victory Prediction"
   ]
  },
  {
   "attachments": {},
   "cell_type": "markdown",
   "metadata": {},
   "source": [
    "## Data Pre-processing"
   ]
  },
  {
   "cell_type": "code",
   "execution_count": 1,
   "metadata": {},
   "outputs": [],
   "source": [
    "import numpy as np\n",
    "import pandas as pd\n"
   ]
  },
  {
   "attachments": {},
   "cell_type": "markdown",
   "metadata": {},
   "source": [
    "### Pre-process player stats"
   ]
  },
  {
   "cell_type": "code",
   "execution_count": 2,
   "metadata": {},
   "outputs": [],
   "source": [
    "acs = pd.read_csv('./Data files/acs.csv')\n",
    "agent_wr = pd.read_csv('./Data files/agent-win-rates.csv')\n",
    "agent_picks = pd.read_csv('./Data files/agent-picks.csv')\n",
    "aim = pd.read_csv('./Data files/aim.csv')\n",
    "assists = pd.read_csv('./Data files/assists.csv')\n",
    "clutches = pd.read_csv('./Data files/clutches.csv')\n",
    "damage = pd.read_csv('./Data files/damage.csv')\n",
    "defusals = pd.read_csv('./Data files/defusals.csv')\n",
    "headshots = pd.read_csv('./Data files/headshots.csv')\n",
    "kd = pd.read_csv('./Data files/kd.csv')\n",
    "multikill = pd.read_csv('./Data files/multi-kills.csv')\n",
    "plants = pd.read_csv('./Data files/plants.csv')\n",
    "spend = pd.read_csv('./Data files/spend.csv')\n",
    "weapon_picks = pd.read_csv('./Data files/weapon-picks.csv')\n"
   ]
  },
  {
   "attachments": {},
   "cell_type": "markdown",
   "metadata": {},
   "source": [
    "### Pre-process team stats"
   ]
  },
  {
   "cell_type": "code",
   "execution_count": 3,
   "metadata": {},
   "outputs": [],
   "source": [
    "team_attack_speed = pd.read_csv('./Data files/team-attack-speed.csv')\n",
    "team_comp = pd.read_csv('./Data files/team-comp.csv')\n",
    "team_map_performance = pd.read_csv('./Data files/team-map-performance.csv')\n",
    "team_post_plants = pd.read_csv('./Data files/team-post-plants.csv')\n",
    "team_round_performance = pd.read_csv('./Data files/team-round-performance.csv')\n",
    "team_win_conditions = pd.read_csv('./Data files/team-win-conditions.csv')\n",
    "team_xvy_performance = pd.read_csv('./Data files/team-xvy-performance.csv')"
   ]
  }
 ],
 "metadata": {
  "kernelspec": {
   "display_name": "Python 3",
   "language": "python",
   "name": "python3"
  },
  "language_info": {
   "codemirror_mode": {
    "name": "ipython",
    "version": 3
   },
   "file_extension": ".py",
   "mimetype": "text/x-python",
   "name": "python",
   "nbconvert_exporter": "python",
   "pygments_lexer": "ipython3",
   "version": "3.9.13"
  },
  "orig_nbformat": 4,
  "vscode": {
   "interpreter": {
    "hash": "bd95098ca061f60bf7a81ae738bc937b59a55a9e938c72070140395791771eca"
   }
  }
 },
 "nbformat": 4,
 "nbformat_minor": 2
}

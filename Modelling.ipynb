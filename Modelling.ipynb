{
 "cells": [
  {
   "attachments": {},
   "cell_type": "markdown",
   "metadata": {},
   "source": [
    "# Valorant Victory Prediction"
   ]
  },
  {
   "attachments": {},
   "cell_type": "markdown",
   "metadata": {},
   "source": [
    "## Data Pre-processing"
   ]
  },
  {
   "cell_type": "code",
   "execution_count": 57,
   "metadata": {},
   "outputs": [],
   "source": [
    "# Import libraries\n",
    "import numpy as np\n",
    "import pandas as pd\n",
    "#For plotting\n",
    "import matplotlib.pyplot as plt\n",
    "import seaborn as sns\n",
    "# For clustering\n",
    "from sklearn.cluster import KMeans\n",
    "from sklearn.preprocessing import OneHotEncoder\n",
    "from sklearn.preprocessing import MultiLabelBinarizer"
   ]
  },
  {
   "attachments": {},
   "cell_type": "markdown",
   "metadata": {},
   "source": [
    "## Pre-process match stats"
   ]
  },
  {
   "attachments": {},
   "cell_type": "markdown",
   "metadata": {},
   "source": [
    "### Dataset overview\n",
    "\n",
    "The match dataset contains the map name, team ids and names, score, wins and losses during attack and defense, players, and team-composition"
   ]
  },
  {
   "cell_type": "code",
   "execution_count": 58,
   "metadata": {},
   "outputs": [],
   "source": [
    "s_results = pd.read_csv('./Data files/val-series.csv')\n",
    "m_results = pd.read_csv('./Data files/val-matches.csv')"
   ]
  },
  {
   "cell_type": "code",
   "execution_count": 59,
   "metadata": {},
   "outputs": [],
   "source": [
    "m_results['winner'] = np.where(m_results['Team 1 Score'] > m_results['Team 2 Score'], 1, 0)\n",
    "m_results = m_results.drop([\n",
    "    'Match Id',\n",
    "    'Series Id',\n",
    "    'Event Name',\n",
    "    'Win Condition',\n",
    "    'Date',\n",
    "    'Total Count',\n",
    "    'Team 1 Id',\n",
    "    'Team 2 Id',\n",
    "    'Team 1 Player Ids',\n",
    "    'Team 2 Player Ids',\n",
    "    'Team 1 Score',\n",
    "    'Team 2 Score',\n",
    "    'Team 1 Score At Half',\n",
    "    'Team 2 Score At Half', \n",
    "    \"Team 1 Pistol Wins\",\n",
    "    \"Team 1 Attacking Pistol Wins\",\n",
    "    \"Team 1 Defending Pistol Wins\",\n",
    "    \"Team 1 Attacking Wins\",\n",
    "    \"Team 1 Attacking Losses\",\n",
    "    \"Team 1 Defending Wins\",\n",
    "    \"Team 1 Defending Losses\",\n",
    "    \"Team 2 Pistol Wins\",\n",
    "    \"Team 2 Attacking Pistol Wins\",\n",
    "    \"Team 2 Defending Pistol Wins\",\n",
    "    \"Team 2 Attacking Wins\",\n",
    "    \"Team 2 Attacking Losses\",\n",
    "    \"Team 2 Defending Wins\",\n",
    "    \"Team 2 Defending Losses\"\n",
    "    ], axis=1)\n",
    "\n"
   ]
  },
  {
   "cell_type": "code",
   "execution_count": 60,
   "metadata": {},
   "outputs": [],
   "source": [
    "  \n",
    "def player_id_list(results, team_number):\n",
    "    list_of_player_ids = []\n",
    "\n",
    "    for index, row in results.iterrows():\n",
    "        player_ids = row['Team ' + team_number + ' Player Ids']\n",
    "        player_ids = player_ids[1:-1]\n",
    "        player_ids = player_ids.split(',')\n",
    "        list_of_player_ids.append(player_ids)\n",
    "    return list_of_player_ids\n",
    "\n",
    "def agents_to_list(results, team_number):\n",
    "    list_of_agent_lists = []\n",
    "    for index, row in results.iterrows():\n",
    "        agents = row['Team ' + team_number + ' Agents'].split(',')\n",
    "        for x in range(len(agents)):\n",
    "            agents[x] = agents[x] + '_' + team_number\n",
    "        list_of_agent_lists.append(agents)\n",
    "    return list_of_agent_lists\n",
    "\n"
   ]
  },
  {
   "cell_type": "code",
   "execution_count": 61,
   "metadata": {},
   "outputs": [],
   "source": [
    "cat_encoder = OneHotEncoder()# instantiate a class\n",
    "# code the feature called default which takes yes, no value\n",
    "results_encoded = pd.get_dummies(m_results, columns=[\n",
    "    'Team 1 Name', 'Team 2 Name', 'Map Name'\n",
    "])"
   ]
  },
  {
   "cell_type": "code",
   "execution_count": 62,
   "metadata": {},
   "outputs": [
    {
     "data": {
      "text/html": [
       "<div>\n",
       "<style scoped>\n",
       "    .dataframe tbody tr th:only-of-type {\n",
       "        vertical-align: middle;\n",
       "    }\n",
       "\n",
       "    .dataframe tbody tr th {\n",
       "        vertical-align: top;\n",
       "    }\n",
       "\n",
       "    .dataframe thead th {\n",
       "        text-align: right;\n",
       "    }\n",
       "</style>\n",
       "<table border=\"1\" class=\"dataframe\">\n",
       "  <thead>\n",
       "    <tr style=\"text-align: right;\">\n",
       "      <th></th>\n",
       "      <th>Attacking First Team Number</th>\n",
       "      <th>Team 1 Agents</th>\n",
       "      <th>Team 2 Agents</th>\n",
       "      <th>winner</th>\n",
       "      <th>Team 1 Name_100 Thieves</th>\n",
       "      <th>Team 1 Name_9z Team</th>\n",
       "      <th>Team 1 Name_AWS</th>\n",
       "      <th>Team 1 Name_Acend</th>\n",
       "      <th>Team 1 Name_Alter Ego</th>\n",
       "      <th>Team 1 Name_BBL Esports</th>\n",
       "      <th>...</th>\n",
       "      <th>Team 2 Name_ZETA DIVISION</th>\n",
       "      <th>Team 2 Name_looking for a name</th>\n",
       "      <th>Map Name_Ascent</th>\n",
       "      <th>Map Name_Bind</th>\n",
       "      <th>Map Name_Breeze</th>\n",
       "      <th>Map Name_Fracture</th>\n",
       "      <th>Map Name_Haven</th>\n",
       "      <th>Map Name_Icebox</th>\n",
       "      <th>Map Name_Pearl</th>\n",
       "      <th>Map Name_Split</th>\n",
       "    </tr>\n",
       "  </thead>\n",
       "  <tbody>\n",
       "    <tr>\n",
       "      <th>0</th>\n",
       "      <td>2</td>\n",
       "      <td>[Breach_1, Raze_1, Omen_1, Chamber_1, Fade_1]</td>\n",
       "      <td>[Killjoy_2, Phoenix_2, Omen_2, Chamber_2, Fade_2]</td>\n",
       "      <td>1</td>\n",
       "      <td>0</td>\n",
       "      <td>0</td>\n",
       "      <td>0</td>\n",
       "      <td>0</td>\n",
       "      <td>0</td>\n",
       "      <td>0</td>\n",
       "      <td>...</td>\n",
       "      <td>0</td>\n",
       "      <td>0</td>\n",
       "      <td>0</td>\n",
       "      <td>0</td>\n",
       "      <td>0</td>\n",
       "      <td>0</td>\n",
       "      <td>1</td>\n",
       "      <td>0</td>\n",
       "      <td>0</td>\n",
       "      <td>0</td>\n",
       "    </tr>\n",
       "    <tr>\n",
       "      <th>1</th>\n",
       "      <td>1</td>\n",
       "      <td>[Cypher_1, Sova_1, Viper_1, Jett_1, KAY/O_1]</td>\n",
       "      <td>[Sova_2, Viper_2, Jett_2, KAY/O_2, Chamber_2]</td>\n",
       "      <td>1</td>\n",
       "      <td>0</td>\n",
       "      <td>0</td>\n",
       "      <td>0</td>\n",
       "      <td>0</td>\n",
       "      <td>0</td>\n",
       "      <td>0</td>\n",
       "      <td>...</td>\n",
       "      <td>0</td>\n",
       "      <td>0</td>\n",
       "      <td>0</td>\n",
       "      <td>0</td>\n",
       "      <td>1</td>\n",
       "      <td>0</td>\n",
       "      <td>0</td>\n",
       "      <td>0</td>\n",
       "      <td>0</td>\n",
       "      <td>0</td>\n",
       "    </tr>\n",
       "    <tr>\n",
       "      <th>2</th>\n",
       "      <td>2</td>\n",
       "      <td>[Raze_1, Viper_1, Brimstone_1, Skye_1, Fade_1]</td>\n",
       "      <td>[Raze_2, Viper_2, Brimstone_2, Skye_2, Chamber_2]</td>\n",
       "      <td>0</td>\n",
       "      <td>0</td>\n",
       "      <td>0</td>\n",
       "      <td>0</td>\n",
       "      <td>0</td>\n",
       "      <td>0</td>\n",
       "      <td>0</td>\n",
       "      <td>...</td>\n",
       "      <td>0</td>\n",
       "      <td>0</td>\n",
       "      <td>0</td>\n",
       "      <td>1</td>\n",
       "      <td>0</td>\n",
       "      <td>0</td>\n",
       "      <td>0</td>\n",
       "      <td>0</td>\n",
       "      <td>0</td>\n",
       "      <td>0</td>\n",
       "    </tr>\n",
       "    <tr>\n",
       "      <th>3</th>\n",
       "      <td>1</td>\n",
       "      <td>[Sova_1, Killjoy_1, Omen_1, Jett_1, KAY/O_1]</td>\n",
       "      <td>[Sova_2, Killjoy_2, Omen_2, Jett_2, KAY/O_2]</td>\n",
       "      <td>1</td>\n",
       "      <td>0</td>\n",
       "      <td>0</td>\n",
       "      <td>0</td>\n",
       "      <td>0</td>\n",
       "      <td>0</td>\n",
       "      <td>0</td>\n",
       "      <td>...</td>\n",
       "      <td>0</td>\n",
       "      <td>0</td>\n",
       "      <td>1</td>\n",
       "      <td>0</td>\n",
       "      <td>0</td>\n",
       "      <td>0</td>\n",
       "      <td>0</td>\n",
       "      <td>0</td>\n",
       "      <td>0</td>\n",
       "      <td>0</td>\n",
       "    </tr>\n",
       "    <tr>\n",
       "      <th>4</th>\n",
       "      <td>2</td>\n",
       "      <td>[Killjoy_1, Phoenix_1, Omen_1, Chamber_1, Fade_1]</td>\n",
       "      <td>[Breach_2, Killjoy_2, Omen_2, Jett_2, Fade_2]</td>\n",
       "      <td>1</td>\n",
       "      <td>0</td>\n",
       "      <td>0</td>\n",
       "      <td>0</td>\n",
       "      <td>0</td>\n",
       "      <td>0</td>\n",
       "      <td>0</td>\n",
       "      <td>...</td>\n",
       "      <td>0</td>\n",
       "      <td>0</td>\n",
       "      <td>0</td>\n",
       "      <td>0</td>\n",
       "      <td>0</td>\n",
       "      <td>0</td>\n",
       "      <td>1</td>\n",
       "      <td>0</td>\n",
       "      <td>0</td>\n",
       "      <td>0</td>\n",
       "    </tr>\n",
       "  </tbody>\n",
       "</table>\n",
       "<p>5 rows × 242 columns</p>\n",
       "</div>"
      ],
      "text/plain": [
       "   Attacking First Team Number  \\\n",
       "0                            2   \n",
       "1                            1   \n",
       "2                            2   \n",
       "3                            1   \n",
       "4                            2   \n",
       "\n",
       "                                       Team 1 Agents  \\\n",
       "0      [Breach_1, Raze_1, Omen_1, Chamber_1, Fade_1]   \n",
       "1       [Cypher_1, Sova_1, Viper_1, Jett_1, KAY/O_1]   \n",
       "2     [Raze_1, Viper_1, Brimstone_1, Skye_1, Fade_1]   \n",
       "3       [Sova_1, Killjoy_1, Omen_1, Jett_1, KAY/O_1]   \n",
       "4  [Killjoy_1, Phoenix_1, Omen_1, Chamber_1, Fade_1]   \n",
       "\n",
       "                                       Team 2 Agents  winner  \\\n",
       "0  [Killjoy_2, Phoenix_2, Omen_2, Chamber_2, Fade_2]       1   \n",
       "1      [Sova_2, Viper_2, Jett_2, KAY/O_2, Chamber_2]       1   \n",
       "2  [Raze_2, Viper_2, Brimstone_2, Skye_2, Chamber_2]       0   \n",
       "3       [Sova_2, Killjoy_2, Omen_2, Jett_2, KAY/O_2]       1   \n",
       "4      [Breach_2, Killjoy_2, Omen_2, Jett_2, Fade_2]       1   \n",
       "\n",
       "   Team 1 Name_100 Thieves  Team 1 Name_9z Team  Team 1 Name_AWS  \\\n",
       "0                        0                    0                0   \n",
       "1                        0                    0                0   \n",
       "2                        0                    0                0   \n",
       "3                        0                    0                0   \n",
       "4                        0                    0                0   \n",
       "\n",
       "   Team 1 Name_Acend  Team 1 Name_Alter Ego  Team 1 Name_BBL Esports  ...  \\\n",
       "0                  0                      0                        0  ...   \n",
       "1                  0                      0                        0  ...   \n",
       "2                  0                      0                        0  ...   \n",
       "3                  0                      0                        0  ...   \n",
       "4                  0                      0                        0  ...   \n",
       "\n",
       "   Team 2 Name_ZETA DIVISION  Team 2 Name_looking for a name  Map Name_Ascent  \\\n",
       "0                          0                               0                0   \n",
       "1                          0                               0                0   \n",
       "2                          0                               0                0   \n",
       "3                          0                               0                1   \n",
       "4                          0                               0                0   \n",
       "\n",
       "   Map Name_Bind  Map Name_Breeze  Map Name_Fracture  Map Name_Haven  \\\n",
       "0              0                0                  0               1   \n",
       "1              0                1                  0               0   \n",
       "2              1                0                  0               0   \n",
       "3              0                0                  0               0   \n",
       "4              0                0                  0               1   \n",
       "\n",
       "   Map Name_Icebox  Map Name_Pearl  Map Name_Split  \n",
       "0                0               0               0  \n",
       "1                0               0               0  \n",
       "2                0               0               0  \n",
       "3                0               0               0  \n",
       "4                0               0               0  \n",
       "\n",
       "[5 rows x 242 columns]"
      ]
     },
     "execution_count": 62,
     "metadata": {},
     "output_type": "execute_result"
    }
   ],
   "source": [
    "\n",
    "#m_results['Team 1 Player Ids'] = player_id_list(m_results, '1')\n",
    "#m_results['Team 2 Player Ids'] = player_id_list(m_results, '2')\n",
    "results_encoded['Team 1 Agents'] = agents_to_list(m_results,'1')\n",
    "results_encoded['Team 2 Agents'] = agents_to_list(m_results,'2')\n",
    "results_encoded.head(5)"
   ]
  },
  {
   "cell_type": "code",
   "execution_count": 63,
   "metadata": {},
   "outputs": [],
   "source": [
    "mlb = MultiLabelBinarizer()\n",
    "results_encoded = results_encoded.join(pd.DataFrame(mlb.fit_transform(results_encoded.pop('Team 1 Agents')),\n",
    "                          columns=mlb.classes_,\n",
    "                          index=m_results.index))\n",
    "results_encoded = results_encoded.join(pd.DataFrame(mlb.fit_transform(results_encoded.pop('Team 2 Agents')),\n",
    "                          columns=mlb.classes_,\n",
    "                          index=m_results.index))"
   ]
  },
  {
   "cell_type": "code",
   "execution_count": 64,
   "metadata": {},
   "outputs": [
    {
     "name": "stdout",
     "output_type": "stream",
     "text": [
      "There is 847 examples with team 1 winning, which is 53.0%\n",
      "There is 741 examples with team 2 winning, which is 47.0%\n"
     ]
    }
   ],
   "source": [
    "# Number of records having team 1 as the victor\n",
    "team1 = results_encoded[results_encoded.winner==1].shape[0]\n",
    "# Number of records having team 2 as the victor\n",
    "team2 = results_encoded[results_encoded.winner==0].shape[0]\n",
    "\n",
    "print(f'There is {team1} examples with team 1 winning, which is {round(team1/results_encoded.shape[0],2)*100}%')\n",
    "print(f'There is {team2} examples with team 2 winning, which is {round(team2/results_encoded.shape[0],2)*100}%')"
   ]
  },
  {
   "attachments": {},
   "cell_type": "markdown",
   "metadata": {},
   "source": [
    "### Pre-process player stats"
   ]
  },
  {
   "cell_type": "code",
   "execution_count": 65,
   "metadata": {},
   "outputs": [],
   "source": [
    "acs = pd.read_csv('./Data files/acs.csv')\n",
    "agent_wr = pd.read_csv('./Data files/agent-win-rates.csv')\n",
    "agent_picks = pd.read_csv('./Data files/agent-picks.csv')\n",
    "aim = pd.read_csv('./Data files/aim.csv')\n",
    "assists = pd.read_csv('./Data files/assists.csv')\n",
    "clutches = pd.read_csv('./Data files/clutches.csv')\n",
    "damage = pd.read_csv('./Data files/damage.csv')\n",
    "defusals = pd.read_csv('./Data files/defusals.csv')\n",
    "headshots = pd.read_csv('./Data files/headshots.csv')\n",
    "kd = pd.read_csv('./Data files/kd.csv')\n",
    "multikill = pd.read_csv('./Data files/multi-kills.csv')\n",
    "plants = pd.read_csv('./Data files/plants.csv')\n",
    "spend = pd.read_csv('./Data files/spend.csv')\n",
    "weapon_picks = pd.read_csv('./Data files/weapon-picks.csv')\n"
   ]
  },
  {
   "attachments": {},
   "cell_type": "markdown",
   "metadata": {},
   "source": [
    "### Pre-process team stats"
   ]
  },
  {
   "cell_type": "code",
   "execution_count": 66,
   "metadata": {},
   "outputs": [],
   "source": [
    "team_attack_speed = pd.read_csv('./Data files/team-attack-speed.csv')\n",
    "team_comp = pd.read_csv('./Data files/team-comp.csv')\n",
    "team_map_performance = pd.read_csv('./Data files/team-map-performance.csv')\n",
    "team_post_plants = pd.read_csv('./Data files/team-post-plants.csv')\n",
    "team_round_performance = pd.read_csv('./Data files/team-round-performance.csv')\n",
    "team_win_conditions = pd.read_csv('./Data files/team-win-conditions.csv')\n",
    "team_xvy_performance = pd.read_csv('./Data files/team-xvy-performance.csv')"
   ]
  },
  {
   "attachments": {},
   "cell_type": "markdown",
   "metadata": {},
   "source": [
    "## Prepare features for testing: previous match data ONLY"
   ]
  },
  {
   "cell_type": "code",
   "execution_count": 67,
   "metadata": {},
   "outputs": [],
   "source": [
    "Y = results_encoded['winner']\n",
    "X = results_encoded.drop(\"winner\", axis=1)"
   ]
  },
  {
   "cell_type": "code",
   "execution_count": 68,
   "metadata": {},
   "outputs": [
    {
     "name": "stdout",
     "output_type": "stream",
     "text": [
      "[[0.48507125 0.         0.         ... 0.         0.         0.        ]\n",
      " [0.26726124 0.         0.         ... 0.26726124 0.26726124 0.        ]\n",
      " [0.48507125 0.         0.         ... 0.         0.24253563 0.        ]\n",
      " ...\n",
      " [0.26726124 0.         0.         ... 0.26726124 0.26726124 0.        ]\n",
      " [0.26726124 0.         0.         ... 0.         0.26726124 0.        ]\n",
      " [0.26726124 0.         0.         ... 0.         0.         0.        ]]\n"
     ]
    }
   ],
   "source": [
    "#Import necessary library\n",
    "from sklearn import preprocessing\n",
    "#Normalize the data\n",
    "normalized_X= preprocessing.normalize(X)\n",
    "#Check normalization\n",
    "print(normalized_X)"
   ]
  },
  {
   "cell_type": "code",
   "execution_count": 69,
   "metadata": {},
   "outputs": [],
   "source": [
    "from sklearn.model_selection import train_test_split\n",
    "#Split testing into 20%\n",
    "X_train, X_test, y_train, y_test = train_test_split(X, Y, test_size=0.2, random_state=1904703)"
   ]
  },
  {
   "cell_type": "code",
   "execution_count": 70,
   "metadata": {},
   "outputs": [
    {
     "data": {
      "text/plain": [
       "RandomForestClassifier(random_state=1904703)"
      ]
     },
     "execution_count": 70,
     "metadata": {},
     "output_type": "execute_result"
    }
   ],
   "source": [
    "from sklearn.ensemble import RandomForestClassifier\n",
    "from sklearn.metrics import accuracy_score\n",
    "from sklearn.metrics import classification_report, confusion_matrix\n",
    "\n",
    "#Create an instance of RandomForestClassifier\n",
    "rf=RandomForestClassifier(random_state=1904703, n_estimators=100)\n",
    "\n",
    "#Fit model with training data\n",
    "rf.fit(X_train, y_train)"
   ]
  },
  {
   "cell_type": "code",
   "execution_count": 71,
   "metadata": {},
   "outputs": [
    {
     "name": "stdout",
     "output_type": "stream",
     "text": [
      "The overall accuracy of RF is 50.63%\n"
     ]
    }
   ],
   "source": [
    "# Prediction\n",
    "rf_predictions = rf.predict(X_test)\n",
    "#Results\n",
    "accuracy = accuracy_score(y_test, rf_predictions)\n",
    "print(f'The overall accuracy of RF is {np.round(accuracy*100,2)}%')"
   ]
  }
 ],
 "metadata": {
  "kernelspec": {
   "display_name": "Python 3",
   "language": "python",
   "name": "python3"
  },
  "language_info": {
   "codemirror_mode": {
    "name": "ipython",
    "version": 3
   },
   "file_extension": ".py",
   "mimetype": "text/x-python",
   "name": "python",
   "nbconvert_exporter": "python",
   "pygments_lexer": "ipython3",
   "version": "3.9.13 (tags/v3.9.13:6de2ca5, May 17 2022, 16:36:42) [MSC v.1929 64 bit (AMD64)]"
  },
  "orig_nbformat": 4,
  "vscode": {
   "interpreter": {
    "hash": "bd95098ca061f60bf7a81ae738bc937b59a55a9e938c72070140395791771eca"
   }
  }
 },
 "nbformat": 4,
 "nbformat_minor": 2
}

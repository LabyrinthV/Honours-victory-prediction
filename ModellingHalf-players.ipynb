{
 "cells": [
  {
   "cell_type": "code",
   "execution_count": 1,
   "metadata": {},
   "outputs": [],
   "source": [
    "# Import libraries\n",
    "import numpy as np\n",
    "import pandas as pd\n",
    "#For plotting\n",
    "import matplotlib.pyplot as plt\n",
    "import seaborn as sns\n",
    "# For clustering\n",
    "from sklearn.cluster import KMeans\n",
    "from sklearn.preprocessing import OneHotEncoder\n",
    "from sklearn.preprocessing import MultiLabelBinarizer\n",
    "\n",
    "# For modelling\n",
    "from sklearn.model_selection import train_test_split\n",
    "from sklearn.ensemble import RandomForestClassifier, GradientBoostingClassifier\n",
    "from sklearn.tree import DecisionTreeClassifier, ExtraTreeClassifier\n",
    "from sklearn.linear_model import LogisticRegression\n",
    "from sklearn.svm import SVC\n",
    "from sklearn.neural_network import MLPClassifier\n",
    "from sklearn.metrics import accuracy_score\n",
    "from sklearn.metrics import classification_report, confusion_matrix"
   ]
  },
  {
   "cell_type": "code",
   "execution_count": 2,
   "metadata": {},
   "outputs": [],
   "source": [
    "m_results = pd.read_csv('./Data files/val-matches.csv')"
   ]
  },
  {
   "cell_type": "code",
   "execution_count": 3,
   "metadata": {},
   "outputs": [],
   "source": [
    "m_results['Winner'] = np.where(m_results['Team 1 Score'] > m_results['Team 2 Score'], 1, 0)\n",
    "# Sort rows by match id\n",
    "m_results = m_results.sort_values(by=['Series Id'], ascending=True)\n",
    "m_results = m_results.drop([\n",
    "    'Match Id',\n",
    "    'Series Id',\n",
    "    'Event Name',\n",
    "    'Win Condition',\n",
    "    'Date',\n",
    "    'Total Count',\n",
    "    'Team 1 Id',\n",
    "    'Team 2 Id',\n",
    "    #'Team 1 Player Ids',\n",
    "    #'Team 2 Player Ids',\n",
    "    'Team 1 Score',\n",
    "    'Team 2 Score',\n",
    "    #'Team 1 Score At Half',\n",
    "    #'Team 2 Score At Half', \n",
    "    \"Team 1 Pistol Wins\",\n",
    "    \"Team 1 Attacking Pistol Wins\",\n",
    "    \"Team 1 Defending Pistol Wins\",\n",
    "    \"Team 1 Attacking Wins\",\n",
    "    \"Team 1 Attacking Losses\",\n",
    "    \"Team 1 Defending Wins\",\n",
    "    \"Team 1 Defending Losses\",\n",
    "    \"Team 2 Pistol Wins\",\n",
    "    \"Team 2 Attacking Pistol Wins\",\n",
    "    \"Team 2 Defending Pistol Wins\",\n",
    "    \"Team 2 Attacking Wins\",\n",
    "    \"Team 2 Attacking Losses\",\n",
    "    \"Team 2 Defending Wins\",\n",
    "    \"Team 2 Defending Losses\"\n",
    "    ], axis=1)\n",
    "\n",
    "#export df to csv\n",
    "m_results.to_csv('./Data files/val-matches-cleaned.csv', index=False)"
   ]
  },
  {
   "cell_type": "code",
   "execution_count": 4,
   "metadata": {},
   "outputs": [],
   "source": [
    "#read val-matches-cleaned.csv\n",
    "val_matches = pd.read_csv('./Data files/val-matches-cleaned.csv')\n"
   ]
  },
  {
   "cell_type": "code",
   "execution_count": 5,
   "metadata": {},
   "outputs": [],
   "source": [
    "def player_id_list(results, team_number):\n",
    "    list_of_player_ids = []\n",
    "\n",
    "    for index, row in results.iterrows():\n",
    "        player_ids = row['Team ' + team_number + ' Player Ids']\n",
    "        player_ids = player_ids[1:-1]\n",
    "        player_ids = player_ids.split(',')\n",
    "        player_ids = [int(i) for i in player_ids]\n",
    "        list_of_player_ids.append(player_ids)\n",
    "    return list_of_player_ids\n",
    "\n",
    "def agents_to_list(results, team_number):\n",
    "    list_of_agent_lists = []\n",
    "    for index, row in results.iterrows():\n",
    "        agents = row['Team ' + team_number + ' Agents'].split(',')\n",
    "        for x in range(len(agents)):\n",
    "            agents[x] = agents[x] + '_' + team_number\n",
    "        list_of_agent_lists.append(agents)\n",
    "    return list_of_agent_lists"
   ]
  },
  {
   "cell_type": "code",
   "execution_count": 6,
   "metadata": {},
   "outputs": [],
   "source": [
    "val_matches['Team 1 Player Ids'] = player_id_list(val_matches, '1')\n",
    "val_matches['Team 2 Player Ids'] = player_id_list(val_matches, '2')\n",
    "val_matches['Team 1 Agents'] = agents_to_list(val_matches, '1')\n",
    "val_matches['Team 2 Agents'] = agents_to_list(val_matches, '2')"
   ]
  },
  {
   "cell_type": "code",
   "execution_count": 7,
   "metadata": {},
   "outputs": [],
   "source": [
    "from pathlib import Path  \n",
    "# acs = pd.read_csv('./Data files/acs.csv')\n",
    "# agent_wr = pd.read_csv('./Data files/agent-win-rates.csv')\n",
    "# agent_picks = pd.read_csv('./Data files/agent-picks.csv')\n",
    "# aim = pd.read_csv('./Data files/aim.csv')\n",
    "# assists = pd.read_csv('./Data files/assists.csv')\n",
    "# clutches = pd.read_csv('./Data files/clutches.csv')\n",
    "# damage = pd.read_csv('./Data files/damage.csv')\n",
    "# defusals = pd.read_csv('./Data files/defusals.csv')\n",
    "# headshots = pd.read_csv('./Data files/headshots.csv')\n",
    "# kd = pd.read_csv('./Data files/kd.csv')\n",
    "# multikill = pd.read_csv('./Data files/multi-kills.csv')\n",
    "# plants = pd.read_csv('./Data files/plants.csv')\n",
    "# spend = pd.read_csv('./Data files/spend.csv')\n",
    "# playernames = pd.read_csv('./Data files/player-names.csv')\n",
    "# playernames.drop(['Team'], axis=1, inplace=True)\n",
    "# #weapon_picks = pd.read_csv('./Data files/weapon-picks.csv')\n",
    "\n",
    "\n",
    "# # Merge the dataframes\n",
    "# df = pd.merge(acs, aim, on=['Ign', 'Team'])\n",
    "# #df = pd.merge(df, agent_picks, on=['Ign', 'Team'])\n",
    "# #df = pd.merge(df, aim, on=['Ign', 'Team'])\n",
    "# df = pd.merge(df, clutches, on=['Ign', 'Team'])\n",
    "# df = pd.merge(df, damage, on=['Ign', 'Team'])\n",
    "# df = pd.merge(df, defusals, on=['Ign', 'Team'])\n",
    "# df = pd.merge(df, headshots, on=['Ign', 'Team'])\n",
    "# df = pd.merge(df, kd, on=['Ign', 'Team'])\n",
    "# df = pd.merge(df, multikill, on=['Ign', 'Team'])\n",
    "# df = pd.merge(df, plants, on=['Ign', 'Team'])\n",
    "# df = pd.merge(df, spend, on=['Ign', 'Team'])\n",
    "# df = pd.merge(df, playernames, on='Ign', how='inner')\n",
    "# #df = pd.merge(df, weapon_picks, on=['Ign', 'Team'])\n",
    "\n",
    "# df.drop_duplicates(subset=['Ign', 'Team'], inplace=True)\n",
    "\n",
    "# filepath = Path('./Data files/merged.csv')  \n",
    "# filepath.parent.mkdir(parents=True, exist_ok=True)  \n",
    "# df.to_csv(filepath)  \n",
    "# df.head(5)\n",
    "\n",
    "df = pd.read_csv('./Data files/merged.csv')"
   ]
  },
  {
   "cell_type": "code",
   "execution_count": 8,
   "metadata": {},
   "outputs": [
    {
     "name": "stdout",
     "output_type": "stream",
     "text": [
      "0       [1403, 17788, 1690, 2056, 10211]\n",
      "1       [2056, 17788, 1403, 1690, 10211]\n",
      "2         [1826, 2377, 2594, 2769, 2940]\n",
      "3         [1826, 2377, 2769, 2594, 2940]\n",
      "4         [1826, 2377, 2940, 2769, 2594]\n",
      "                      ...               \n",
      "1583       [3211, 2841, 398, 2483, 2716]\n",
      "1584       [2483, 2841, 3211, 398, 2716]\n",
      "1585       [2841, 398, 2483, 2716, 3211]\n",
      "1586       [2483, 2841, 398, 2716, 3211]\n",
      "1587       [2841, 3211, 398, 2716, 2483]\n",
      "Name: Team 1 Player Ids, Length: 1588, dtype: object\n"
     ]
    }
   ],
   "source": [
    "# Create an elo system for each player\n",
    "# Create a dictionary of players and their elo\n",
    "elo_dict = {}\n",
    "for index, row in df.iterrows():\n",
    "    if row['Player Id'] not in elo_dict:\n",
    "        elo_dict[row['Player Id']] = 1000\n",
    "\n",
    "# Players with higher kd should have higher elo\n",
    "# Players with higher acs should have higher elo\n",
    "\n",
    "# Create a dictionary of players and their acs\n",
    "acs_dict = {}\n",
    "for index, row in df.iterrows():\n",
    "    if row['Player Id'] not in acs_dict:\n",
    "        acs_dict[row['Player Id']] = row['Acs']\n",
    "\n",
    "# Create a dictionary of players and their kd\n",
    "kd_dict = {}\n",
    "for index, row in df.iterrows():\n",
    "    if row['Player Id'] not in kd_dict:\n",
    "        kd_dict[row['Player Id']] = row['Kd']\n",
    "print(val_matches['Team 1 Player Ids'])\n"
   ]
  },
  {
   "cell_type": "code",
   "execution_count": 9,
   "metadata": {},
   "outputs": [
    {
     "name": "stdout",
     "output_type": "stream",
     "text": [
      "[]\n"
     ]
    }
   ],
   "source": [
    "# Modify elo based on win rate kd and acs\n",
    "error_ids = []\n",
    "for index, row in val_matches.iterrows():\n",
    "    if row['Winner'] == 1:\n",
    "        for player in row['Team 1 Player Ids']:\n",
    "            try:\n",
    "                elo_dict[player] += 100 * kd_dict[player]\n",
    "                elo_dict[player] += 100 * acs_dict[player]\n",
    "            except KeyError:\n",
    "                if player not in error_ids:\n",
    "                    error_ids.append(player)\n",
    "\n",
    "        for player in row['Team 2 Player Ids']:\n",
    "            try:\n",
    "                elo_dict[player] -= 100 * kd_dict[player]\n",
    "                elo_dict[player] -= 100 * acs_dict[player]\n",
    "            except KeyError:\n",
    "                if player not in error_ids:\n",
    "                    error_ids.append(player)\n",
    "    else:\n",
    "        for player in row['Team 2 Player Ids']:\n",
    "            try:\n",
    "                elo_dict[player] += 100 * kd_dict[player]\n",
    "                elo_dict[player] += 100 * acs_dict[player]\n",
    "            except KeyError:\n",
    "                if player not in error_ids:\n",
    "                    error_ids.append(player)\n",
    "        for player in row['Team 1 Player Ids']:\n",
    "            try:\n",
    "                elo_dict[player] -= 100 * kd_dict[player]\n",
    "                elo_dict[player] -= 100 * acs_dict[player]\n",
    "            except KeyError:\n",
    "                if player not in error_ids:\n",
    "                    error_ids.append(player)\n",
    "\n",
    "print(error_ids)\n",
    "\n",
    "# Add total elo of each team to the val matches dataframe\n",
    "team1_elo_list = []\n",
    "team2_elo_list = []\n",
    "for index, row in val_matches.iterrows():\n",
    "    team1_elo = 0\n",
    "    team2_elo = 0\n",
    "    for player in row['Team 1 Player Ids']:\n",
    "        team1_elo += elo_dict[player]\n",
    "    for player in row['Team 2 Player Ids']:\n",
    "        team2_elo += elo_dict[player]\n",
    "    team1_elo_list.append(team1_elo)\n",
    "    team2_elo_list.append(team2_elo)\n",
    "\n",
    "val_matches['Team 1 Total ELO'] = team1_elo_list\n",
    "val_matches['Team 2 Total ELO'] = team2_elo_list\n",
    "\n",
    "val_matches.drop(['Team 1 Player Ids', 'Team 2 Player Ids'], axis=1, inplace=True)"
   ]
  },
  {
   "cell_type": "code",
   "execution_count": 10,
   "metadata": {},
   "outputs": [
    {
     "name": "stdout",
     "output_type": "stream",
     "text": [
      "['Attacking First Team Number', 'Team 1 Score At Half', 'Team 2 Score At Half', 'Team 1 Agents', 'Team 2 Agents', 'Winner', 'Team 1 Rating', 'Team 2 Rating', 'Map Name_Ascent', 'Map Name_Bind', 'Map Name_Breeze', 'Map Name_Fracture', 'Map Name_Haven', 'Map Name_Icebox', 'Map Name_Pearl', 'Map Name_Split', 'Team 1 Name_100 Thieves', 'Team 1 Name_9z Team', 'Team 1 Name_AWS', 'Team 1 Name_Acend', 'Team 1 Name_Alter Ego', 'Team 1 Name_BBL Esports', 'Team 1 Name_BIG', 'Team 1 Name_BLUE BEES.ESP', 'Team 1 Name_BOOM Esports', 'Team 1 Name_Bleed Esports', 'Team 1 Name_CERBERUS Esports', 'Team 1 Name_CNJ Esports', 'Team 1 Name_Cloud9', 'Team 1 Name_Crazy Raccoon', 'Team 1 Name_Crest Gaming ZST', 'Team 1 Name_DAMWON Gaming', 'Team 1 Name_DRX', 'Team 1 Name_DeToNator', 'Team 1 Name_Desperado', 'Team 1 Name_DetonatioN Gaming White', 'Team 1 Name_E-Xolos LAZER', 'Team 1 Name_EBRO Gaming', 'Team 1 Name_EDward Gaming', 'Team 1 Name_EVA:e', 'Team 1 Name_Evil Geniuses', 'Team 1 Name_FAV gaming', 'Team 1 Name_FENNEL', 'Team 1 Name_FNATIC', 'Team 1 Name_FOKUS', 'Team 1 Name_FULL SENSE', 'Team 1 Name_FURIA', 'Team 1 Name_FUSION', 'Team 1 Name_FW Esports', 'Team 1 Name_FaZe Clan', 'Team 1 Name_Fancy United Esports', 'Team 1 Name_FunPlus Phoenix', 'Team 1 Name_G2 Esports (Inactive)', 'Team 1 Name_Gaimin Gladiators', 'Team 1 Name_Gamelanders Blue', 'Team 1 Name_Ghost Gaming', 'Team 1 Name_GoNGo Prince', 'Team 1 Name_Griffin E-Sports', 'Team 1 Name_Guild Esports', 'Team 1 Name_GyoGun', 'Team 1 Name_Hexad', 'Team 1 Name_HolyMolly', 'Team 1 Name_IGZIST', 'Team 1 Name_INGAMING Esports', 'Team 1 Name_IXA', 'Team 1 Name_Jadeite', 'Team 1 Name_K2 eSports', 'Team 1 Name_KRÜ Esports', 'Team 1 Name_Keyd Stars', 'Team 1 Name_Knights', 'Team 1 Name_LDN UTD', 'Team 1 Name_LOUD', 'Team 1 Name_Leviatán', 'Team 1 Name_Liberty', 'Team 1 Name_Los Grandes', 'Team 1 Name_Luminosity Gaming', 'Team 1 Name_M3 Champions', 'Team 1 Name_MIBR', 'Team 1 Name_Made in Thailand', 'Team 1 Name_Maru Gaming', 'Team 1 Name_Meta Gaming', 'Team 1 Name_Movistar Optix', 'Team 1 Name_NAOS Esports', 'Team 1 Name_NORTHEPTION', 'Team 1 Name_NRG Esports', 'Team 1 Name_Natus Vincere', 'Team 1 Name_Ninjas in Pyjamas', 'Team 1 Name_No Namers', 'Team 1 Name_OG LDN UTD', 'Team 1 Name_ORDER', 'Team 1 Name_Oasis Gaming', 'Team 1 Name_On Sla2ers', 'Team 1 Name_Onic Esports', 'Team 1 Name_OpTic Gaming', 'Team 1 Name_PAMPAS', 'Team 1 Name_Paper Rex', 'Team 1 Name_Persija Esports', 'Team 1 Name_REJECT', 'Team 1 Name_Rebellion Arts', 'Team 1 Name_Reignite', 'Team 1 Name_Rex Regum Qeon', 'Team 1 Name_Rise', 'Team 1 Name_SCARZ', 'Team 1 Name_SETOUCHI ENLIFE', 'Team 1 Name_Sengoku Gaming', 'Team 1 Name_Sentinels', 'Team 1 Name_Sharks Esports', 'Team 1 Name_Shopify Rebellion', 'Team 1 Name_South Built Esports', 'Team 1 Name_Spear Gaming', 'Team 1 Name_Stars Horizon', 'Team 1 Name_SunXet Club', 'Team 1 Name_SuperMassive', 'Team 1 Name_TBK Esports', 'Team 1 Name_TRIDENT', 'Team 1 Name_TSM', 'Team 1 Name_Tartarus', 'Team 1 Name_Team GP', 'Team 1 Name_Team Liquid', 'Team 1 Name_Team Secret', 'Team 1 Name_Team T5', 'Team 1 Name_Team Vikings', 'Team 1 Name_The Guard', 'Team 1 Name_Velocity Gaming', 'Team 1 Name_Version1 (Inactive)', 'Team 1 Name_World Game Star', 'Team 1 Name_XERXIA Esports', 'Team 1 Name_XSET', 'Team 1 Name_ZETA DIVISION', 'Team 1 Name_ややーず', 'Team 2 Name_100 Thieves', 'Team 2 Name_9z Team', 'Team 2 Name_Acend', 'Team 2 Name_Alter Ego', 'Team 2 Name_BBL Esports', 'Team 2 Name_BIG', 'Team 2 Name_BLUE BEES.ESP', 'Team 2 Name_BOOM Esports', 'Team 2 Name_Bleed Esports', 'Team 2 Name_Bonkers(OCE)', 'Team 2 Name_Brimstone', 'Team 2 Name_CERBERUS Esports', 'Team 2 Name_CNJ Esports', 'Team 2 Name_Cloud9', 'Team 2 Name_Crazy Raccoon', 'Team 2 Name_Crest Gaming ZST', 'Team 2 Name_DAMWON Gaming', 'Team 2 Name_DRX', 'Team 2 Name_Desperado', 'Team 2 Name_E-Xolos LAZER', 'Team 2 Name_EBRO Gaming', 'Team 2 Name_EDward Gaming', 'Team 2 Name_Evil Geniuses', 'Team 2 Name_FAV gaming', 'Team 2 Name_FENNEL', 'Team 2 Name_FNATIC', 'Team 2 Name_FOKUS', 'Team 2 Name_FURIA', 'Team 2 Name_FUSION', 'Team 2 Name_FW Esports', 'Team 2 Name_FaZe Clan', 'Team 2 Name_Fancy United Esports', 'Team 2 Name_Focus e-Sports', 'Team 2 Name_FunPlus Phoenix', 'Team 2 Name_G2 Esports (Inactive)', 'Team 2 Name_Gaimin Gladiators', 'Team 2 Name_Gambit Esports', 'Team 2 Name_Gamelanders Blue', 'Team 2 Name_Ghost Gaming', 'Team 2 Name_Global Esports', 'Team 2 Name_Griffin E-Sports', 'Team 2 Name_Guild Esports', 'Team 2 Name_HolyMolly', 'Team 2 Name_IGZIST', 'Team 2 Name_INGAMING Esports', 'Team 2 Name_IXA', 'Team 2 Name_Insomnia', 'Team 2 Name_Jadeite', 'Team 2 Name_KRÜ Esports', 'Team 2 Name_Keyd Stars', 'Team 2 Name_Knights', 'Team 2 Name_LDN UTD', 'Team 2 Name_LOUD', 'Team 2 Name_Leviatán', 'Team 2 Name_Liberty', 'Team 2 Name_Los Grandes', 'Team 2 Name_Luminosity Gaming', 'Team 2 Name_M3 Champions', 'Team 2 Name_MIBR', 'Team 2 Name_Made in Thailand', 'Team 2 Name_Mariner', 'Team 2 Name_Maru Gaming', 'Team 2 Name_Meta Gaming', 'Team 2 Name_Movistar Optix', 'Team 2 Name_NAOS Esports', 'Team 2 Name_NORTHEPTION', 'Team 2 Name_NRG Esports', 'Team 2 Name_Natus Vincere', 'Team 2 Name_Next eSports', 'Team 2 Name_Ninjas in Pyjamas', 'Team 2 Name_No Namers', 'Team 2 Name_OG LDN UTD', 'Team 2 Name_ORDER', 'Team 2 Name_Oasis Gaming', 'Team 2 Name_Oblivion Force', 'Team 2 Name_On Sla2ers', 'Team 2 Name_Onic Esports', 'Team 2 Name_OpTic Gaming', 'Team 2 Name_PAMPAS', 'Team 2 Name_Paper Rex', 'Team 2 Name_Pentagon', 'Team 2 Name_Persija Esports', 'Team 2 Name_REJECT', 'Team 2 Name_Reignite', 'Team 2 Name_Rex Regum Qeon', 'Team 2 Name_Rise', 'Team 2 Name_SCARZ', 'Team 2 Name_SYSTEM e-Sports', 'Team 2 Name_SchwarzerLand', 'Team 2 Name_Sengoku Gaming', 'Team 2 Name_Sentinels', 'Team 2 Name_Sharks Esports', 'Team 2 Name_Shopify Rebellion', 'Team 2 Name_South Built Esports', 'Team 2 Name_Spear Gaming', 'Team 2 Name_Stars Horizon', 'Team 2 Name_Storks Phalanx', 'Team 2 Name_SuperMassive', 'Team 2 Name_TBK Esports', 'Team 2 Name_TSM', 'Team 2 Name_Tartarus', 'Team 2 Name_Team GP', 'Team 2 Name_Team Liquid', 'Team 2 Name_Team Secret', 'Team 2 Name_Team T5', 'Team 2 Name_Team Vikings', 'Team 2 Name_The Guard', 'Team 2 Name_VPZ', 'Team 2 Name_Velocity Gaming', 'Team 2 Name_Veronica7', 'Team 2 Name_Version1 (Inactive)', 'Team 2 Name_World Game Star', 'Team 2 Name_XERXIA Esports', 'Team 2 Name_XSET', 'Team 2 Name_ZETA DIVISION', 'Team 2 Name_looking for a name']\n"
     ]
    }
   ],
   "source": [
    "cat_encoder = OneHotEncoder()# instantiate a class\n",
    "# code the feature called default which takes yes, no value\n",
    "results_encoded = pd.get_dummies(val_matches, columns=[\n",
    "    'Map Name',\n",
    "    'Team 1 Name',\n",
    "    'Team 2 Name',\n",
    "])\n",
    "print(results_encoded.columns.tolist())"
   ]
  },
  {
   "cell_type": "code",
   "execution_count": 11,
   "metadata": {},
   "outputs": [],
   "source": [
    "mlb = MultiLabelBinarizer()\n",
    "results_encoded = results_encoded.join(pd.DataFrame(mlb.fit_transform(results_encoded.pop('Team 1 Agents')),\n",
    "                          columns=mlb.classes_,\n",
    "                          index=val_matches.index))\n",
    "results_encoded = results_encoded.join(pd.DataFrame(mlb.fit_transform(results_encoded.pop('Team 2 Agents')),\n",
    "                          columns=mlb.classes_,\n",
    "                          index=val_matches.index))"
   ]
  },
  {
   "cell_type": "code",
   "execution_count": 12,
   "metadata": {},
   "outputs": [
    {
     "data": {
      "text/html": [
       "<div>\n",
       "<style scoped>\n",
       "    .dataframe tbody tr th:only-of-type {\n",
       "        vertical-align: middle;\n",
       "    }\n",
       "\n",
       "    .dataframe tbody tr th {\n",
       "        vertical-align: top;\n",
       "    }\n",
       "\n",
       "    .dataframe thead th {\n",
       "        text-align: right;\n",
       "    }\n",
       "</style>\n",
       "<table border=\"1\" class=\"dataframe\">\n",
       "  <thead>\n",
       "    <tr style=\"text-align: right;\">\n",
       "      <th></th>\n",
       "      <th>Attacking First Team Number</th>\n",
       "      <th>Team 1 Score At Half</th>\n",
       "      <th>Team 2 Score At Half</th>\n",
       "      <th>Team 1 Rating</th>\n",
       "      <th>Team 2 Rating</th>\n",
       "      <th>Map Name_Ascent</th>\n",
       "      <th>Map Name_Bind</th>\n",
       "      <th>Map Name_Breeze</th>\n",
       "      <th>Map Name_Fracture</th>\n",
       "      <th>Map Name_Haven</th>\n",
       "      <th>...</th>\n",
       "      <th>Neon_2</th>\n",
       "      <th>Omen_2</th>\n",
       "      <th>Phoenix_2</th>\n",
       "      <th>Raze_2</th>\n",
       "      <th>Reyna_2</th>\n",
       "      <th>Sage_2</th>\n",
       "      <th>Skye_2</th>\n",
       "      <th>Sova_2</th>\n",
       "      <th>Viper_2</th>\n",
       "      <th>Yoru_2</th>\n",
       "    </tr>\n",
       "  </thead>\n",
       "  <tbody>\n",
       "    <tr>\n",
       "      <th>0</th>\n",
       "      <td>2</td>\n",
       "      <td>7</td>\n",
       "      <td>5</td>\n",
       "      <td>802703.0</td>\n",
       "      <td>654405.0</td>\n",
       "      <td>0</td>\n",
       "      <td>0</td>\n",
       "      <td>1</td>\n",
       "      <td>0</td>\n",
       "      <td>0</td>\n",
       "      <td>...</td>\n",
       "      <td>0</td>\n",
       "      <td>0</td>\n",
       "      <td>0</td>\n",
       "      <td>0</td>\n",
       "      <td>0</td>\n",
       "      <td>0</td>\n",
       "      <td>1</td>\n",
       "      <td>1</td>\n",
       "      <td>1</td>\n",
       "      <td>0</td>\n",
       "    </tr>\n",
       "    <tr>\n",
       "      <th>1</th>\n",
       "      <td>2</td>\n",
       "      <td>3</td>\n",
       "      <td>9</td>\n",
       "      <td>802703.0</td>\n",
       "      <td>654405.0</td>\n",
       "      <td>0</td>\n",
       "      <td>0</td>\n",
       "      <td>0</td>\n",
       "      <td>0</td>\n",
       "      <td>0</td>\n",
       "      <td>...</td>\n",
       "      <td>0</td>\n",
       "      <td>0</td>\n",
       "      <td>0</td>\n",
       "      <td>0</td>\n",
       "      <td>0</td>\n",
       "      <td>1</td>\n",
       "      <td>0</td>\n",
       "      <td>1</td>\n",
       "      <td>1</td>\n",
       "      <td>0</td>\n",
       "    </tr>\n",
       "    <tr>\n",
       "      <th>2</th>\n",
       "      <td>1</td>\n",
       "      <td>6</td>\n",
       "      <td>6</td>\n",
       "      <td>524095.0</td>\n",
       "      <td>1117336.0</td>\n",
       "      <td>0</td>\n",
       "      <td>0</td>\n",
       "      <td>0</td>\n",
       "      <td>0</td>\n",
       "      <td>0</td>\n",
       "      <td>...</td>\n",
       "      <td>0</td>\n",
       "      <td>0</td>\n",
       "      <td>0</td>\n",
       "      <td>1</td>\n",
       "      <td>0</td>\n",
       "      <td>1</td>\n",
       "      <td>0</td>\n",
       "      <td>0</td>\n",
       "      <td>1</td>\n",
       "      <td>0</td>\n",
       "    </tr>\n",
       "  </tbody>\n",
       "</table>\n",
       "<p>3 rows × 281 columns</p>\n",
       "</div>"
      ],
      "text/plain": [
       "   Attacking First Team Number  Team 1 Score At Half  Team 2 Score At Half  \\\n",
       "0                            2                     7                     5   \n",
       "1                            2                     3                     9   \n",
       "2                            1                     6                     6   \n",
       "\n",
       "   Team 1 Rating  Team 2 Rating  Map Name_Ascent  Map Name_Bind  \\\n",
       "0       802703.0       654405.0                0              0   \n",
       "1       802703.0       654405.0                0              0   \n",
       "2       524095.0      1117336.0                0              0   \n",
       "\n",
       "   Map Name_Breeze  Map Name_Fracture  Map Name_Haven  ...  Neon_2  Omen_2  \\\n",
       "0                1                  0               0  ...       0       0   \n",
       "1                0                  0               0  ...       0       0   \n",
       "2                0                  0               0  ...       0       0   \n",
       "\n",
       "   Phoenix_2  Raze_2  Reyna_2  Sage_2  Skye_2  Sova_2  Viper_2  Yoru_2  \n",
       "0          0       0        0       0       1       1        1       0  \n",
       "1          0       0        0       1       0       1        1       0  \n",
       "2          0       1        0       1       0       0        1       0  \n",
       "\n",
       "[3 rows x 281 columns]"
      ]
     },
     "execution_count": 12,
     "metadata": {},
     "output_type": "execute_result"
    }
   ],
   "source": [
    "Y = results_encoded['Winner']\n",
    "X = results_encoded.drop(\"Winner\", axis=1)\n",
    "X.head(3)"
   ]
  },
  {
   "cell_type": "code",
   "execution_count": 13,
   "metadata": {},
   "outputs": [],
   "source": [
    "#Split testing into 20%\n",
    "#Set shuffle to false to make sure past data is not used for testing\n",
    "X_train, X_test, y_train, y_test = train_test_split(X, Y, test_size=0.2, random_state=1904703, shuffle=False)"
   ]
  },
  {
   "cell_type": "code",
   "execution_count": 14,
   "metadata": {},
   "outputs": [
    {
     "data": {
      "text/plain": [
       "MLPClassifier(random_state=1904703)"
      ]
     },
     "execution_count": 14,
     "metadata": {},
     "output_type": "execute_result"
    }
   ],
   "source": [
    "#Create an instance of RandomForestClassifier\n",
    "rf=RandomForestClassifier(random_state=1904703, n_estimators=100)\n",
    "gb= GradientBoostingClassifier(random_state=1904703, n_estimators=100)\n",
    "dt= DecisionTreeClassifier(random_state=1904703)\n",
    "et= ExtraTreeClassifier(random_state=1904703)\n",
    "lr= LogisticRegression(random_state=1904703)\n",
    "svc= SVC(random_state=1904703)\n",
    "mlp= MLPClassifier(random_state=1904703)\n",
    "\n",
    "#Fit model with training data\n",
    "rf.fit(X_train, y_train)\n",
    "gb.fit(X_train, y_train)\n",
    "dt.fit(X_train, y_train)\n",
    "et.fit(X_train, y_train)\n",
    "lr.fit(X_train, y_train)\n",
    "svc.fit(X_train, y_train)\n",
    "mlp.fit(X_train, y_train)"
   ]
  },
  {
   "cell_type": "code",
   "execution_count": 15,
   "metadata": {},
   "outputs": [
    {
     "name": "stdout",
     "output_type": "stream",
     "text": [
      "The overall accuracy of RF is 74.53%\n",
      "The overall accuracy of GB is 76.1%\n",
      "The overall accuracy of DT is 68.55%\n",
      "The overall accuracy of ET is 61.32%\n",
      "The overall accuracy of LR is 67.3%\n",
      "The overall accuracy of SVC is 69.18%\n",
      "The overall accuracy of MLP is 60.38%\n"
     ]
    }
   ],
   "source": [
    "# Prediction\n",
    "rf_predictions = rf.predict(X_test)\n",
    "gb_predictions = gb.predict(X_test)\n",
    "dt_predictions = dt.predict(X_test)\n",
    "et_predictions = et.predict(X_test)\n",
    "lr_predictions = lr.predict(X_test)\n",
    "svc_predictions = svc.predict(X_test)\n",
    "mlp_predictions = mlp.predict(X_test)\n",
    "#Results\n",
    "accuracy_rf = accuracy_score(y_test, rf_predictions)\n",
    "accuracy_gb = accuracy_score(y_test, gb_predictions)\n",
    "accuracy_dt = accuracy_score(y_test, dt_predictions)\n",
    "accuracy_et = accuracy_score(y_test, et_predictions)\n",
    "accuracy_lr = accuracy_score(y_test, lr_predictions)\n",
    "accuracy_svc = accuracy_score(y_test, svc_predictions)\n",
    "accuracy_mlp = accuracy_score(y_test, mlp_predictions)\n",
    "print(f'The overall accuracy of RF is {np.round(accuracy_rf*100,2)}%')\n",
    "print(f'The overall accuracy of GB is {np.round(accuracy_gb*100,2)}%')\n",
    "print(f'The overall accuracy of DT is {np.round(accuracy_dt*100,2)}%')\n",
    "print(f'The overall accuracy of ET is {np.round(accuracy_et*100,2)}%')\n",
    "print(f'The overall accuracy of LR is {np.round(accuracy_lr*100,2)}%')\n",
    "print(f'The overall accuracy of SVC is {np.round(accuracy_svc*100,2)}%')\n",
    "print(f'The overall accuracy of MLP is {np.round(accuracy_mlp*100,2)}%')"
   ]
  },
  {
   "cell_type": "code",
   "execution_count": 16,
   "metadata": {},
   "outputs": [
    {
     "data": {
      "image/png": "[encoded data removed]",
      "text/plain": [
       "<Figure size 576x432 with 1 Axes>"
      ]
     },
     "metadata": {
      "needs_background": "light"
     },
     "output_type": "display_data"
    }
   ],
   "source": [
    "fig = plt.figure(figsize=(8,6))\n",
    "ax = fig.add_axes([0,0,1,1])\n",
    "models = ['RF', 'GB', 'DT', 'ET', 'LR', 'SVC', 'MLP']\n",
    "accuracies = [np.round(accuracy_rf*100,2), np.round(accuracy_gb*100,2), np.round(accuracy_dt*100,2), np.round(accuracy_et*100,2), np.round(accuracy_lr*100,2), np.round(accuracy_svc*100,2), np.round(accuracy_mlp*100,2)]\n",
    "ax.bar(models,accuracies, color='#FF4654')\n",
    "# Set y-axis to be 0-100\n",
    "ax.set_ylim(0,100)\n",
    "ax.set_ylabel('Accuracy (%)')\n",
    "ax.set_title('Model Accuracy')\n",
    "ax.set_xlabel('Models')\n",
    "plt.rcParams.update({'font.size': 18})\n",
    "plt.show()"
   ]
  },
  {
   "cell_type": "code",
   "execution_count": 17,
   "metadata": {},
   "outputs": [
    {
     "data": {
      "text/plain": [
       "Text(0.5, 0, 'Feature Importance')"
      ]
     },
     "execution_count": 17,
     "metadata": {},
     "output_type": "execute_result"
    },
    {
     "data": {
      "image/png": "[encoded data removed]",
      "text/plain": [
       "<Figure size 432x288 with 1 Axes>"
      ]
     },
     "metadata": {
      "needs_background": "light"
     },
     "output_type": "display_data"
    }
   ],
   "source": [
    "(pd.Series(gb.feature_importances_, index=X.columns).nlargest(4).plot(kind='barh', color='#FF4654').set_xlabel('Feature Importance'))"
   ]
  }
 ],
 "metadata": {
  "kernelspec": {
   "display_name": "Python 3",
   "language": "python",
   "name": "python3"
  },
  "language_info": {
   "codemirror_mode": {
    "name": "ipython",
    "version": 3
   },
   "file_extension": ".py",
   "mimetype": "text/x-python",
   "name": "python",
   "nbconvert_exporter": "python",
   "pygments_lexer": "ipython3",
   "version": "3.9.13"
  },
  "orig_nbformat": 4
 },
 "nbformat": 4,
 "nbformat_minor": 2
}

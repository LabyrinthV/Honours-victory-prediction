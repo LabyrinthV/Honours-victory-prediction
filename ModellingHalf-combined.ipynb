{
 "cells": [
  {
   "cell_type": "code",
   "execution_count": null,
   "metadata": {},
   "outputs": [],
   "source": [
    "# Import libraries\n",
    "import numpy as np\n",
    "import pandas as pd\n",
    "#For plotting\n",
    "import matplotlib.pyplot as plt\n",
    "import seaborn as sns\n",
    "# For clustering\n",
    "from sklearn.cluster import KMeans\n",
    "from sklearn.preprocessing import OneHotEncoder\n",
    "from sklearn.preprocessing import MultiLabelBinarizer\n",
    "from sklearn import preprocessing\n",
    "from sklearn.model_selection import train_test_split"
   ]
  },
  {
   "cell_type": "code",
   "execution_count": null,
   "metadata": {},
   "outputs": [],
   "source": [
    "from sklearn.ensemble import RandomForestClassifier, GradientBoostingClassifier\n",
    "from sklearn.tree import DecisionTreeClassifier, ExtraTreeClassifier\n",
    "from sklearn.linear_model import LogisticRegression\n",
    "from sklearn.svm import SVC\n",
    "from sklearn.neural_network import MLPClassifier\n",
    "from sklearn.metrics import accuracy_score\n",
    "from sklearn.metrics import classification_report, confusion_matrix\n",
    "\n",
    "#Create an instance of RandomForestClassifier\n",
    "rf=RandomForestClassifier(random_state=1904703, n_estimators=100)\n",
    "gb= GradientBoostingClassifier(random_state=1904703, n_estimators=100)\n",
    "dt= DecisionTreeClassifier(random_state=1904703)\n",
    "et= ExtraTreeClassifier(random_state=1904703)\n",
    "lr= LogisticRegression(random_state=1904703)\n",
    "svc= SVC( random_state=1904703)\n",
    "mlp= MLPClassifier(random_state=1904703)"
   ]
  },
  {
   "cell_type": "code",
   "execution_count": null,
   "metadata": {},
   "outputs": [],
   "source": [
    "#read val-matches-cleaned.csv\n",
    "val_matches = pd.read_csv('./Data files/val-matches.csv')"
   ]
  },
  {
   "cell_type": "code",
   "execution_count": null,
   "metadata": {},
   "outputs": [
    {
     "data": {
      "text/html": [
       "<div>\n",
       "<style scoped>\n",
       "    .dataframe tbody tr th:only-of-type {\n",
       "        vertical-align: middle;\n",
       "    }\n",
       "\n",
       "    .dataframe tbody tr th {\n",
       "        vertical-align: top;\n",
       "    }\n",
       "\n",
       "    .dataframe thead th {\n",
       "        text-align: right;\n",
       "    }\n",
       "</style>\n",
       "<table border=\"1\" class=\"dataframe\">\n",
       "  <thead>\n",
       "    <tr style=\"text-align: right;\">\n",
       "      <th></th>\n",
       "      <th>Map Name</th>\n",
       "      <th>Team 1 Name</th>\n",
       "      <th>Team 2 Name</th>\n",
       "      <th>Attacking First Team Number</th>\n",
       "      <th>Team 1 Player Ids</th>\n",
       "      <th>Team 2 Player Ids</th>\n",
       "      <th>Team 1 Agents</th>\n",
       "      <th>Team 2 Agents</th>\n",
       "      <th>Winner</th>\n",
       "    </tr>\n",
       "  </thead>\n",
       "  <tbody>\n",
       "    <tr>\n",
       "      <th>1543</th>\n",
       "      <td>Breeze</td>\n",
       "      <td>Team Liquid</td>\n",
       "      <td>Gambit Esports</td>\n",
       "      <td>2</td>\n",
       "      <td>[1403,17788,1690,2056,10211]</td>\n",
       "      <td>[1964,1081,3135,2528,274]</td>\n",
       "      <td>Sova,Viper,Skye,KAY/O,Chamber</td>\n",
       "      <td>Sova,Viper,Jett,Skye,Chamber</td>\n",
       "      <td>0</td>\n",
       "    </tr>\n",
       "    <tr>\n",
       "      <th>1544</th>\n",
       "      <td>Icebox</td>\n",
       "      <td>Team Liquid</td>\n",
       "      <td>Gambit Esports</td>\n",
       "      <td>2</td>\n",
       "      <td>[2056,17788,1403,1690,10211]</td>\n",
       "      <td>[1964,274,1081,3135,2528]</td>\n",
       "      <td>Sova,Viper,Sage,Reyna,Chamber</td>\n",
       "      <td>Sova,Viper,Sage,Jett,KAY/O</td>\n",
       "      <td>0</td>\n",
       "    </tr>\n",
       "    <tr>\n",
       "      <th>1540</th>\n",
       "      <td>Split</td>\n",
       "      <td>G2 Esports (Inactive)</td>\n",
       "      <td>FNATIC</td>\n",
       "      <td>1</td>\n",
       "      <td>[1826,2377,2594,2769,2940]</td>\n",
       "      <td>[2937,154,2290,76,2011]</td>\n",
       "      <td>Raze,Cypher,Sage,Omen,Jett</td>\n",
       "      <td>Raze,Viper,Sage,Astra,KAY/O</td>\n",
       "      <td>0</td>\n",
       "    </tr>\n",
       "    <tr>\n",
       "      <th>1542</th>\n",
       "      <td>Icebox</td>\n",
       "      <td>G2 Esports (Inactive)</td>\n",
       "      <td>FNATIC</td>\n",
       "      <td>2</td>\n",
       "      <td>[1826,2377,2769,2594,2940]</td>\n",
       "      <td>[2290,154,76,2011,2937]</td>\n",
       "      <td>Sova,Killjoy,Viper,Sage,Jett</td>\n",
       "      <td>Sova,Killjoy,Viper,Sage,Jett</td>\n",
       "      <td>0</td>\n",
       "    </tr>\n",
       "    <tr>\n",
       "      <th>1541</th>\n",
       "      <td>Ascent</td>\n",
       "      <td>G2 Esports (Inactive)</td>\n",
       "      <td>FNATIC</td>\n",
       "      <td>1</td>\n",
       "      <td>[1826,2377,2940,2769,2594]</td>\n",
       "      <td>[2290,154,2937,76,2011]</td>\n",
       "      <td>Sova,Killjoy,Jett,Astra,KAY/O</td>\n",
       "      <td>Sova,Killjoy,Jett,Astra,KAY/O</td>\n",
       "      <td>1</td>\n",
       "    </tr>\n",
       "  </tbody>\n",
       "</table>\n",
       "</div>"
      ],
      "text/plain": [
       "     Map Name            Team 1 Name     Team 2 Name  \\\n",
       "1543   Breeze            Team Liquid  Gambit Esports   \n",
       "1544   Icebox            Team Liquid  Gambit Esports   \n",
       "1540    Split  G2 Esports (Inactive)          FNATIC   \n",
       "1542   Icebox  G2 Esports (Inactive)          FNATIC   \n",
       "1541   Ascent  G2 Esports (Inactive)          FNATIC   \n",
       "\n",
       "      Attacking First Team Number             Team 1 Player Ids  \\\n",
       "1543                            2  [1403,17788,1690,2056,10211]   \n",
       "1544                            2  [2056,17788,1403,1690,10211]   \n",
       "1540                            1    [1826,2377,2594,2769,2940]   \n",
       "1542                            2    [1826,2377,2769,2594,2940]   \n",
       "1541                            1    [1826,2377,2940,2769,2594]   \n",
       "\n",
       "              Team 2 Player Ids                  Team 1 Agents  \\\n",
       "1543  [1964,1081,3135,2528,274]  Sova,Viper,Skye,KAY/O,Chamber   \n",
       "1544  [1964,274,1081,3135,2528]  Sova,Viper,Sage,Reyna,Chamber   \n",
       "1540    [2937,154,2290,76,2011]     Raze,Cypher,Sage,Omen,Jett   \n",
       "1542    [2290,154,76,2011,2937]   Sova,Killjoy,Viper,Sage,Jett   \n",
       "1541    [2290,154,2937,76,2011]  Sova,Killjoy,Jett,Astra,KAY/O   \n",
       "\n",
       "                      Team 2 Agents  Winner  \n",
       "1543   Sova,Viper,Jett,Skye,Chamber       0  \n",
       "1544     Sova,Viper,Sage,Jett,KAY/O       0  \n",
       "1540    Raze,Viper,Sage,Astra,KAY/O       0  \n",
       "1542   Sova,Killjoy,Viper,Sage,Jett       0  \n",
       "1541  Sova,Killjoy,Jett,Astra,KAY/O       1  "
      ]
     },
     "metadata": {},
     "output_type": "display_data"
    }
   ],
   "source": [
    "val_matches['Winner'] = np.where(val_matches['Team 1 Score'] > val_matches['Team 2 Score'], 1, 0)\n",
    "# Sort rows by match id\n",
    "val_matches = val_matches.sort_values(by=['Series Id'], ascending=True)\n",
    "val_matches = val_matches.drop([\n",
    "    'Match Id',\n",
    "    'Series Id',\n",
    "    'Event Name',\n",
    "    'Win Condition',\n",
    "    'Date',\n",
    "    'Total Count',\n",
    "    'Team 1 Id',\n",
    "    'Team 2 Id',\n",
    "    #'Team 1 Player Ids',\n",
    "    #'Team 2 Player Ids',\n",
    "    #'Team 1 Agents',\n",
    "    #'Team 2 Agents',\n",
    "    'Team 1 Score',\n",
    "    'Team 2 Score',\n",
    "    #'Team 1 Score At Half',\n",
    "    #'Team 2 Score At Half', \n",
    "    \"Team 1 Pistol Wins\",\n",
    "    \"Team 1 Attacking Pistol Wins\",\n",
    "    \"Team 1 Defending Pistol Wins\",\n",
    "    \"Team 1 Attacking Wins\",\n",
    "    \"Team 1 Attacking Losses\",\n",
    "    \"Team 1 Defending Wins\",\n",
    "    \"Team 1 Defending Losses\",\n",
    "    \"Team 2 Pistol Wins\",\n",
    "    \"Team 2 Attacking Pistol Wins\",\n",
    "    \"Team 2 Defending Pistol Wins\",\n",
    "    \"Team 2 Attacking Wins\",\n",
    "    \"Team 2 Attacking Losses\",\n",
    "    \"Team 2 Defending Wins\",\n",
    "    \"Team 2 Defending Losses\"\n",
    "    ], axis=1)\n",
    "val_matches.head()"
   ]
  },
  {
   "cell_type": "code",
   "execution_count": null,
   "metadata": {},
   "outputs": [],
   "source": [
    "def player_id_list(results, team_number):\n",
    "    list_of_player_ids = []\n",
    "\n",
    "    for index, row in results.iterrows():\n",
    "        player_ids = row['Team ' + team_number + ' Player Ids']\n",
    "        player_ids = player_ids[1:-1]\n",
    "        player_ids = player_ids.split(',')\n",
    "        player_ids = [int(i) for i in player_ids]\n",
    "        list_of_player_ids.append(player_ids)\n",
    "    return list_of_player_ids\n",
    "\n",
    "def agents_to_list(results, team_number):\n",
    "    list_of_agent_lists = []\n",
    "    for index, row in results.iterrows():\n",
    "        agents = row['Team ' + team_number + ' Agents'].split(',')\n",
    "        for x in range(len(agents)):\n",
    "            agents[x] = agents[x] + '_' + team_number\n",
    "        list_of_agent_lists.append(agents)\n",
    "    return list_of_agent_lists"
   ]
  },
  {
   "cell_type": "code",
   "execution_count": null,
   "metadata": {},
   "outputs": [],
   "source": [
    "val_matches['Team 1 Player Ids'] = player_id_list(val_matches, '1')\n",
    "val_matches['Team 2 Player Ids'] = player_id_list(val_matches, '2')\n",
    "val_matches['Team 1 Agents'] = agents_to_list(val_matches, '1')\n",
    "val_matches['Team 2 Agents'] = agents_to_list(val_matches, '2')"
   ]
  },
  {
   "cell_type": "code",
   "execution_count": null,
   "metadata": {},
   "outputs": [],
   "source": [
    "df = pd.read_csv('./Data files/merged.csv')"
   ]
  },
  {
   "cell_type": "code",
   "execution_count": null,
   "metadata": {},
   "outputs": [
    {
     "name": "stdout",
     "output_type": "stream",
     "text": [
      "1543    [1403, 17788, 1690, 2056, 10211]\n",
      "1544    [2056, 17788, 1403, 1690, 10211]\n",
      "1540      [1826, 2377, 2594, 2769, 2940]\n",
      "1542      [1826, 2377, 2769, 2594, 2940]\n",
      "1541      [1826, 2377, 2940, 2769, 2594]\n",
      "                      ...               \n",
      "8          [3211, 2841, 398, 2483, 2716]\n",
      "7          [2483, 2841, 3211, 398, 2716]\n",
      "6          [2841, 398, 2483, 2716, 3211]\n",
      "5          [2483, 2841, 398, 2716, 3211]\n",
      "4          [2841, 3211, 398, 2716, 2483]\n",
      "Name: Team 1 Player Ids, Length: 1588, dtype: object\n"
     ]
    }
   ],
   "source": [
    "# Create an elo system for each player\n",
    "# Create a dictionary of players and their elo\n",
    "elo_dict = {}\n",
    "for index, row in df.iterrows():\n",
    "    if row['Player Id'] not in elo_dict:\n",
    "        elo_dict[row['Player Id']] = 1000\n",
    "\n",
    "# Players with higher kd should have higher elo\n",
    "# Players with higher acs should have higher elo\n",
    "\n",
    "# Create a dictionary of players and their acs\n",
    "acs_dict = {}\n",
    "for index, row in df.iterrows():\n",
    "    if row['Player Id'] not in acs_dict:\n",
    "        acs_dict[row['Player Id']] = row['Acs']\n",
    "\n",
    "# Create a dictionary of players and their kd\n",
    "kd_dict = {}\n",
    "for index, row in df.iterrows():\n",
    "    if row['Player Id'] not in kd_dict:\n",
    "        kd_dict[row['Player Id']] = row['Kd']\n",
    "print(val_matches['Team 1 Player Ids'])\n"
   ]
  },
  {
   "cell_type": "code",
   "execution_count": null,
   "metadata": {},
   "outputs": [
    {
     "name": "stdout",
     "output_type": "stream",
     "text": [
      "[]\n"
     ]
    }
   ],
   "source": [
    "# Modify elo based on win rate kd and acs\n",
    "error_ids = []\n",
    "for index, row in val_matches.iterrows():\n",
    "    if row['Winner'] == 1:\n",
    "        for player in row['Team 1 Player Ids']:\n",
    "            try:\n",
    "                elo_dict[player] += 100 * kd_dict[player]\n",
    "                elo_dict[player] += 100 * acs_dict[player]\n",
    "            except KeyError:\n",
    "                if player not in error_ids:\n",
    "                    error_ids.append(player)\n",
    "\n",
    "        for player in row['Team 2 Player Ids']:\n",
    "            try:\n",
    "                elo_dict[player] -= 100 * kd_dict[player]\n",
    "                elo_dict[player] -= 100 * acs_dict[player]\n",
    "            except KeyError:\n",
    "                if player not in error_ids:\n",
    "                    error_ids.append(player)\n",
    "    else:\n",
    "        for player in row['Team 2 Player Ids']:\n",
    "            try:\n",
    "                elo_dict[player] += 100 * kd_dict[player]\n",
    "                elo_dict[player] += 100 * acs_dict[player]\n",
    "            except KeyError:\n",
    "                if player not in error_ids:\n",
    "                    error_ids.append(player)\n",
    "        for player in row['Team 1 Player Ids']:\n",
    "            try:\n",
    "                elo_dict[player] -= 100 * kd_dict[player]\n",
    "                elo_dict[player] -= 100 * acs_dict[player]\n",
    "            except KeyError:\n",
    "                if player not in error_ids:\n",
    "                    error_ids.append(player)\n",
    "\n",
    "print(error_ids)\n",
    "\n",
    "# Add total elo of each team to the val matches dataframe\n",
    "team1_elo_list = []\n",
    "team2_elo_list = []\n",
    "for index, row in val_matches.iterrows():\n",
    "    team1_elo = 0\n",
    "    team2_elo = 0\n",
    "    for player in row['Team 1 Player Ids']:\n",
    "        team1_elo += elo_dict[player]\n",
    "    for player in row['Team 2 Player Ids']:\n",
    "        team2_elo += elo_dict[player]\n",
    "    team1_elo_list.append(team1_elo)\n",
    "    team2_elo_list.append(team2_elo)\n",
    "\n",
    "val_matches['Team 1 Total Player Elo'] = team1_elo_list\n",
    "val_matches['Team 2 Total Player Elo'] = team2_elo_list\n",
    "\n",
    "val_matches.drop(['Team 1 Player Ids', 'Team 2 Player Ids'], axis=1, inplace=True)"
   ]
  },
  {
   "cell_type": "code",
   "execution_count": null,
   "metadata": {},
   "outputs": [],
   "source": [
    "cat_encoder = OneHotEncoder()# instantiate a class\n",
    "# code the feature called default which takes yes, no value\n",
    "results_encoded = pd.get_dummies(val_matches, columns=[\n",
    "    'Map Name',\n",
    "])"
   ]
  },
  {
   "cell_type": "code",
   "execution_count": null,
   "metadata": {},
   "outputs": [],
   "source": [
    "mlb = MultiLabelBinarizer()\n",
    "results_encoded = results_encoded.join(pd.DataFrame(mlb.fit_transform(results_encoded.pop('Team 1 Agents')),\n",
    "                          columns=mlb.classes_,\n",
    "                          index=val_matches.index))\n",
    "results_encoded = results_encoded.join(pd.DataFrame(mlb.fit_transform(results_encoded.pop('Team 2 Agents')),\n",
    "                          columns=mlb.classes_,\n",
    "                          index=val_matches.index))"
   ]
  },
  {
   "cell_type": "code",
   "execution_count": null,
   "metadata": {},
   "outputs": [],
   "source": [
    "team_attack_speed = pd.read_csv('./Data files/team-attack-speed.csv')\n",
    "team_comp = pd.read_csv('./Data files/team-comp.csv')\n",
    "team_map_performance = pd.read_csv('./Data files/team-map-performance.csv')\n",
    "team_post_plants = pd.read_csv('./Data files/team-post-plants.csv')\n",
    "team_round_performance = pd.read_csv('./Data files/team-round-performance.csv')\n",
    "team_win_conditions = pd.read_csv('./Data files/team-win-conditions.csv')\n",
    "team_xvy_performance = pd.read_csv('./Data files/team-xvy-performance.csv')\n",
    "\n",
    "#df_team = pd.merge(team_map_performance, team_comp, on='Team')\n",
    "df_team = pd.merge(team_round_performance, team_post_plants, on='Team')\n",
    "#df_team = pd.merge(df_team, team_round_performance, on='Team')\n",
    "#df_team = pd.merge(df_team, team_win_conditions, on='Team')\n",
    "#df_team = pd.merge(df_team, team_xvy_performance, on='Team')"
   ]
  },
  {
   "cell_type": "code",
   "execution_count": null,
   "metadata": {},
   "outputs": [],
   "source": [
    "# Create a dictionary of teams and their elo\n",
    "team_elo_dict = {}\n",
    "for index, row in df_team.iterrows():\n",
    "    if row['Team'] not in team_elo_dict:\n",
    "        team_elo_dict[row['Team']] = 1000\n",
    "    \n",
    "# Modify elo based on win rate kd and acs\n",
    "for index, row in results_encoded.iterrows():\n",
    "    if row['Winner'] == 1:\n",
    "        team_elo_dict[row['Team 1 Name']] += 100\n",
    "        team_elo_dict[row['Team 2 Name']] -= 100\n",
    "    else:\n",
    "        team_elo_dict[row['Team 1 Name']] -= 100\n",
    "        team_elo_dict[row['Team 2 Name']] += 100 "
   ]
  },
  {
   "cell_type": "code",
   "execution_count": null,
   "metadata": {},
   "outputs": [],
   "source": [
    "for index, row in results_encoded.iterrows():\n",
    "    #replace team names with elo\n",
    "    # if value is a string, replace it with the elo\n",
    "    if isinstance(row['Team 1 Name'], str):\n",
    "        results_encoded.at[index, 'Team 1 Name'] = team_elo_dict[row['Team 1 Name']]\n",
    "        results_encoded.at[index, 'Team 2 Name'] = team_elo_dict[row['Team 2 Name']]"
   ]
  },
  {
   "cell_type": "code",
   "execution_count": null,
   "metadata": {},
   "outputs": [
    {
     "data": {
      "text/html": [
       "<div>\n",
       "<style scoped>\n",
       "    .dataframe tbody tr th:only-of-type {\n",
       "        vertical-align: middle;\n",
       "    }\n",
       "\n",
       "    .dataframe tbody tr th {\n",
       "        vertical-align: top;\n",
       "    }\n",
       "\n",
       "    .dataframe thead th {\n",
       "        text-align: right;\n",
       "    }\n",
       "</style>\n",
       "<table border=\"1\" class=\"dataframe\">\n",
       "  <thead>\n",
       "    <tr style=\"text-align: right;\">\n",
       "      <th></th>\n",
       "      <th>Team 1 Name</th>\n",
       "      <th>Team 2 Name</th>\n",
       "      <th>Attacking First Team Number</th>\n",
       "      <th>Team 1 Total Player Elo</th>\n",
       "      <th>Team 2 Total Player Elo</th>\n",
       "      <th>Map Name_Ascent</th>\n",
       "      <th>Map Name_Bind</th>\n",
       "      <th>Map Name_Breeze</th>\n",
       "      <th>Map Name_Fracture</th>\n",
       "      <th>Map Name_Haven</th>\n",
       "      <th>...</th>\n",
       "      <th>Neon_2</th>\n",
       "      <th>Omen_2</th>\n",
       "      <th>Phoenix_2</th>\n",
       "      <th>Raze_2</th>\n",
       "      <th>Reyna_2</th>\n",
       "      <th>Sage_2</th>\n",
       "      <th>Skye_2</th>\n",
       "      <th>Sova_2</th>\n",
       "      <th>Viper_2</th>\n",
       "      <th>Yoru_2</th>\n",
       "    </tr>\n",
       "  </thead>\n",
       "  <tbody>\n",
       "    <tr>\n",
       "      <th>1543</th>\n",
       "      <td>1900</td>\n",
       "      <td>1100</td>\n",
       "      <td>2</td>\n",
       "      <td>802703.0</td>\n",
       "      <td>654405.0</td>\n",
       "      <td>0</td>\n",
       "      <td>0</td>\n",
       "      <td>1</td>\n",
       "      <td>0</td>\n",
       "      <td>0</td>\n",
       "      <td>...</td>\n",
       "      <td>0</td>\n",
       "      <td>0</td>\n",
       "      <td>0</td>\n",
       "      <td>0</td>\n",
       "      <td>0</td>\n",
       "      <td>0</td>\n",
       "      <td>1</td>\n",
       "      <td>1</td>\n",
       "      <td>1</td>\n",
       "      <td>0</td>\n",
       "    </tr>\n",
       "    <tr>\n",
       "      <th>1544</th>\n",
       "      <td>1900</td>\n",
       "      <td>1100</td>\n",
       "      <td>2</td>\n",
       "      <td>802703.0</td>\n",
       "      <td>654405.0</td>\n",
       "      <td>0</td>\n",
       "      <td>0</td>\n",
       "      <td>0</td>\n",
       "      <td>0</td>\n",
       "      <td>0</td>\n",
       "      <td>...</td>\n",
       "      <td>0</td>\n",
       "      <td>0</td>\n",
       "      <td>0</td>\n",
       "      <td>0</td>\n",
       "      <td>0</td>\n",
       "      <td>1</td>\n",
       "      <td>0</td>\n",
       "      <td>1</td>\n",
       "      <td>1</td>\n",
       "      <td>0</td>\n",
       "    </tr>\n",
       "    <tr>\n",
       "      <th>1540</th>\n",
       "      <td>1500</td>\n",
       "      <td>2500</td>\n",
       "      <td>1</td>\n",
       "      <td>524095.0</td>\n",
       "      <td>1117336.0</td>\n",
       "      <td>0</td>\n",
       "      <td>0</td>\n",
       "      <td>0</td>\n",
       "      <td>0</td>\n",
       "      <td>0</td>\n",
       "      <td>...</td>\n",
       "      <td>0</td>\n",
       "      <td>0</td>\n",
       "      <td>0</td>\n",
       "      <td>1</td>\n",
       "      <td>0</td>\n",
       "      <td>1</td>\n",
       "      <td>0</td>\n",
       "      <td>0</td>\n",
       "      <td>1</td>\n",
       "      <td>0</td>\n",
       "    </tr>\n",
       "  </tbody>\n",
       "</table>\n",
       "<p>3 rows × 51 columns</p>\n",
       "</div>"
      ],
      "text/plain": [
       "     Team 1 Name Team 2 Name  Attacking First Team Number  \\\n",
       "1543        1900        1100                            2   \n",
       "1544        1900        1100                            2   \n",
       "1540        1500        2500                            1   \n",
       "\n",
       "      Team 1 Total Player Elo  Team 2 Total Player Elo  Map Name_Ascent  \\\n",
       "1543                 802703.0                 654405.0                0   \n",
       "1544                 802703.0                 654405.0                0   \n",
       "1540                 524095.0                1117336.0                0   \n",
       "\n",
       "      Map Name_Bind  Map Name_Breeze  Map Name_Fracture  Map Name_Haven  ...  \\\n",
       "1543              0                1                  0               0  ...   \n",
       "1544              0                0                  0               0  ...   \n",
       "1540              0                0                  0               0  ...   \n",
       "\n",
       "      Neon_2  Omen_2  Phoenix_2  Raze_2  Reyna_2  Sage_2  Skye_2  Sova_2  \\\n",
       "1543       0       0          0       0        0       0       1       1   \n",
       "1544       0       0          0       0        0       1       0       1   \n",
       "1540       0       0          0       1        0       1       0       0   \n",
       "\n",
       "      Viper_2  Yoru_2  \n",
       "1543        1       0  \n",
       "1544        1       0  \n",
       "1540        1       0  \n",
       "\n",
       "[3 rows x 51 columns]"
      ]
     },
     "metadata": {},
     "output_type": "display_data"
    }
   ],
   "source": [
    "Y = results_encoded['Winner']\n",
    "X = results_encoded.drop(\"Winner\", axis=1)\n",
    "X.head(3)"
   ]
  },
  {
   "cell_type": "code",
   "execution_count": null,
   "metadata": {},
   "outputs": [
    {
     "name": "stdout",
     "output_type": "stream",
     "text": [
      "The overall accuracy of RF is 61.95%\n",
      "The overall accuracy of GB is 63.84%\n",
      "The overall accuracy of DT is 57.55%\n",
      "The overall accuracy of ET is 55.35%\n",
      "The overall accuracy of LR is 67.3%\n",
      "The overall accuracy of SVC is 69.18%\n",
      "The overall accuracy of MLP is 60.69%\n"
     ]
    }
   ],
   "source": [
    "normalized_X= preprocessing.normalize(X)\n",
    "X_train, X_test, y_train, y_test = train_test_split(X, Y, test_size=0.2, random_state=1904703, shuffle=False)\n",
    "\n",
    "#Fit model with training data\n",
    "rf.fit(X_train, y_train)\n",
    "gb.fit(X_train, y_train)\n",
    "dt.fit(X_train, y_train)\n",
    "et.fit(X_train, y_train)\n",
    "lr.fit(X_train, y_train)\n",
    "svc.fit(X_train, y_train)\n",
    "mlp.fit(X_train, y_train)\n",
    "\n",
    "\n",
    "# Prediction\n",
    "rf_predictions = rf.predict(X_test)\n",
    "gb_predictions = gb.predict(X_test)\n",
    "dt_predictions = dt.predict(X_test)\n",
    "et_predictions = et.predict(X_test)\n",
    "lr_predictions = lr.predict(X_test)\n",
    "svc_predictions = svc.predict(X_test)\n",
    "mlp_predictions = mlp.predict(X_test)\n",
    "#Results\n",
    "accuracy_rf = accuracy_score(y_test, rf_predictions)\n",
    "accuracy_gb = accuracy_score(y_test, gb_predictions)\n",
    "accuracy_dt = accuracy_score(y_test, dt_predictions)\n",
    "accuracy_et = accuracy_score(y_test, et_predictions)\n",
    "accuracy_lr = accuracy_score(y_test, lr_predictions)\n",
    "accuracy_svc = accuracy_score(y_test, svc_predictions)\n",
    "accuracy_mlp = accuracy_score(y_test, mlp_predictions)\n",
    "print(f'The overall accuracy of RF is {np.round(accuracy_rf*100,2)}%')\n",
    "print(f'The overall accuracy of GB is {np.round(accuracy_gb*100,2)}%')\n",
    "print(f'The overall accuracy of DT is {np.round(accuracy_dt*100,2)}%')\n",
    "print(f'The overall accuracy of ET is {np.round(accuracy_et*100,2)}%')\n",
    "print(f'The overall accuracy of LR is {np.round(accuracy_lr*100,2)}%')\n",
    "print(f'The overall accuracy of SVC is {np.round(accuracy_svc*100,2)}%')\n",
    "print(f'The overall accuracy of MLP is {np.round(accuracy_mlp*100,2)}%')"
   ]
  },
  {
   "cell_type": "code",
   "execution_count": null,
   "metadata": {},
   "outputs": [
    {
     "data": {
      "image/png": "[encoded data removed]",
      "text/plain": [
       "<Figure size 576x432 with 1 Axes>"
      ]
     },
     "metadata": {},
     "output_type": "display_data"
    }
   ],
   "source": [
    "fig = plt.figure(figsize=(8,6))\n",
    "ax = fig.add_axes([0,0,1,1])\n",
    "models = ['RF', 'GB', 'DT', 'ET', 'LR', 'SVC', 'MLP']\n",
    "accuracies = [np.round(accuracy_rf*100,2), np.round(accuracy_gb*100,2), np.round(accuracy_dt*100,2), np.round(accuracy_et*100,2), np.round(accuracy_lr*100,2), np.round(accuracy_svc*100,2), np.round(accuracy_mlp*100,2)]\n",
    "ax.bar(models,accuracies, color='#FF4654')\n",
    "# Set y-axis to be 0-100\n",
    "ax.set_ylim(0,100)\n",
    "ax.set_ylabel('Accuracy (%)')\n",
    "ax.set_title('Model Accuracy')\n",
    "ax.set_xlabel('Models')\n",
    "plt.rcParams.update({'font.size': 18})\n",
    "plt.show()"
   ]
  },
  {
   "cell_type": "code",
   "execution_count": null,
   "metadata": {},
   "outputs": [],
   "source": [
    "def get_feature_importance(model, feature_names):\n",
    "    feature_importance = {\n",
    "        pd.DataFrame(\n",
    "        {\n",
    "            'variable': feature_names,\n",
    "            'coefficient': model.coef_[0]\n",
    "        }\n",
    "        )\n",
    "        .round(decimals=2) \\\n",
    "        .sort_values('coefficient', ascending=False) \\\n",
    "        .style.bar(color=['#d65f5f', '#5fba7d'])\n",
    "    }\n",
    "    return feature_importance"
   ]
  },
  {
   "cell_type": "code",
   "execution_count": null,
   "metadata": {},
   "outputs": [
    {
     "data": {
      "text/plain": [
       "Index(['Team 1 Name', 'Team 2 Name', 'Attacking First Team Number',\n",
       "       'Team 1 Total Player Elo', 'Team 2 Total Player Elo', 'Map Name_Ascent',\n",
       "       'Map Name_Bind', 'Map Name_Breeze', 'Map Name_Fracture',\n",
       "       'Map Name_Haven', 'Map Name_Icebox', 'Map Name_Pearl', 'Map Name_Split',\n",
       "       'Astra_1', 'Breach_1', 'Brimstone_1', 'Chamber_1', 'Cypher_1', 'Fade_1',\n",
       "       'Jett_1', 'KAY/O_1', 'Killjoy_1', 'Neon_1', 'Omen_1', 'Phoenix_1',\n",
       "       'Raze_1', 'Reyna_1', 'Sage_1', 'Skye_1', 'Sova_1', 'Viper_1', 'Yoru_1',\n",
       "       'Astra_2', 'Breach_2', 'Brimstone_2', 'Chamber_2', 'Cypher_2', 'Fade_2',\n",
       "       'Jett_2', 'KAY/O_2', 'Killjoy_2', 'Neon_2', 'Omen_2', 'Phoenix_2',\n",
       "       'Raze_2', 'Reyna_2', 'Sage_2', 'Skye_2', 'Sova_2', 'Viper_2', 'Yoru_2'],\n",
       "      dtype='object')"
      ]
     },
     "metadata": {},
     "output_type": "display_data"
    }
   ],
   "source": [
    "X_train.columns"
   ]
  },
  {
   "cell_type": "code",
   "execution_count": null,
   "metadata": {},
   "outputs": [
    {
     "data": {
      "text/plain": [
       "array([ 5.32906786e-05,  5.51609125e-05,  1.17356565e-07,  5.54232592e-07,\n",
       "       -7.40949606e-07,  2.97635960e-08,  3.58626686e-08, -2.79887818e-08,\n",
       "        1.74702215e-08,  1.56055706e-08, -8.60486878e-09,  0.00000000e+00,\n",
       "       -3.30311998e-09,  3.51161115e-08,  8.41353807e-09,  1.77843479e-08,\n",
       "        9.65193646e-09,  9.10699266e-10,  7.93764880e-09,  2.91264176e-08,\n",
       "        8.94589500e-09,  5.09768989e-08,  5.37130988e-09,  3.05492437e-08,\n",
       "        4.42733983e-10,  4.58476739e-08,  2.95220450e-09,  1.70399234e-08,\n",
       "        1.91581088e-08,  1.59910494e-09,  3.98408635e-10,  1.80422543e-09,\n",
       "        4.47407064e-08,  3.25708683e-08,  1.12825203e-08, -3.00047591e-09,\n",
       "        1.19688203e-08,  1.58938149e-08,  1.62244556e-08,  4.85473502e-09,\n",
       "        3.72056583e-08, -6.28054629e-09,  3.48869161e-08,  1.54172313e-09,\n",
       "        4.65866708e-08,  8.13984583e-09, -1.06007178e-08,  4.23148013e-08,\n",
       "        4.70735259e-09, -4.95431432e-09,  7.50559902e-09])"
      ]
     },
     "metadata": {},
     "output_type": "display_data"
    }
   ],
   "source": [
    "lr.coef_[0]"
   ]
  },
  {
   "cell_type": "code",
   "execution_count": null,
   "metadata": {},
   "outputs": [
    {
     "data": {
      "text/plain": [
       "{<pandas.io.formats.style.Styler at 0x146ddbb6ac0>}"
      ]
     },
     "metadata": {},
     "output_type": "display_data"
    }
   ],
   "source": [
    "get_feature_importance(lr, X_train.columns)\n"
   ]
  },
  {
   "cell_type": "code",
   "execution_count": null,
   "metadata": {},
   "outputs": [
    {
     "data": {
      "text/plain": [
       "Text(0.5, 0, 'Feature Importance')"
      ]
     },
     "metadata": {},
     "output_type": "display_data"
    },
    {
     "data": {
      "image/png": "[encoded data removed]",
      "text/plain": [
       "<Figure size 432x288 with 1 Axes>"
      ]
     },
     "metadata": {},
     "output_type": "display_data"
    }
   ],
   "source": [
    "(pd.Series(rf.feature_importances_, index=X.columns)\n",
    "   .nlargest(4)\n",
    "   .plot(kind='barh', color='#FF4654').set_xlabel('Feature Importance'))  \n",
    "\n"
   ]
  },
  {
   "cell_type": "code",
   "execution_count": null,
   "metadata": {},
   "outputs": [
    {
     "data": {
      "text/plain": [
       "Text(0.5, 0, 'Feature Importance')"
      ]
     },
     "metadata": {},
     "output_type": "display_data"
    },
    {
     "data": {
      "image/png": "[encoded data removed]",
      "text/plain": [
       "<Figure size 432x288 with 1 Axes>"
      ]
     },
     "metadata": {},
     "output_type": "display_data"
    }
   ],
   "source": [
    "(pd.Series(gb.feature_importances_, index=X.columns).nlargest(4).plot(kind='barh', color='#FF4654').set_xlabel('Feature Importance'))"
   ]
  }
 ],
 "metadata": {
  "language_info": {
   "name": "python"
  },
  "orig_nbformat": 4
 },
 "nbformat": 4,
 "nbformat_minor": 2
}
